{
 "cells": [
  {
   "cell_type": "markdown",
   "id": "972eb380",
   "metadata": {},
   "source": [
    "<h1 style=\"text-align:center\">CAPÍTULO 3</h1>\n",
    "<h1 style=\"text-align:center\">ECUACIONES DIFERENCIALES DE ORDEN SUPERIOR</h1>"
   ]
  },
  {
   "cell_type": "markdown",
   "id": "53a49c99",
   "metadata": {},
   "source": [
    "<h1><span style=\"color:purple\">3.1 Ecuaciones diferenciales lineales homogéneas<span></h1>"
   ]
  },
  {
   "cell_type": "markdown",
   "id": "ca9ee5fb",
   "metadata": {},
   "source": [
    "<h2><span style=\"color:blue\" >3.1.1 Definición<span></h2>"
   ]
  },
  {
   "cell_type": "markdown",
   "id": "aa2dc830",
   "metadata": {},
   "source": [
    "Una ecuación diferencial lineal de $n$-ésimo orden de la forma:"
   ]
  },
  {
   "cell_type": "markdown",
   "id": "84690a5d",
   "metadata": {},
   "source": [
    "$$\n",
    "\\begin{equation}\n",
    "\\begin{aligned}\n",
    "a_{n}(x)\\frac{d^{n}y}{dx^{n}}+a_{n-1}(x)\\frac{d^{n-1}y}{dx^{n-1}}+...+a_{1}(x)\\frac{dy}{dx}+a_{0}(x)y =0\n",
    "\\end{aligned}\n",
    "\\label{ODE_H_01}\n",
    "\\tag{1}\n",
    "\\end{equation}\n",
    "$$"
   ]
  },
  {
   "cell_type": "markdown",
   "id": "1ad2a9ca",
   "metadata": {},
   "source": [
    "se dice que es <b>homogénea</b>, mientras que la siguiente ecuación diferencial de $n$-ésimo orden:"
   ]
  },
  {
   "cell_type": "markdown",
   "id": "f6281571",
   "metadata": {},
   "source": [
    "$$\n",
    "\\begin{equation}\n",
    "\\begin{aligned}\n",
    "a_{n}(x)\\frac{d^{n}y}{dx^{n}}+a_{n-1}(x)\\frac{d^{n-1}y}{dx^{n-1}}+...+a_{1}(x)\\frac{dy}{dx}+a_{0}(x)y = g(x)\n",
    "\\end{aligned}\n",
    "\\label{ODE_H_02}\n",
    "\\tag{2}\n",
    "\\end{equation}\n",
    "$$"
   ]
  },
  {
   "cell_type": "markdown",
   "id": "11bd0435",
   "metadata": {},
   "source": [
    "se dice que es <b>no homogénea</b>."
   ]
  },
  {
   "cell_type": "markdown",
   "id": "e8bf4034",
   "metadata": {},
   "source": [
    "<span style=\"color:red\" ><b>Importante</b></span>:"
   ]
  },
  {
   "cell_type": "markdown",
   "id": "7a7a3f3e",
   "metadata": {},
   "source": [
    "Se plantean las siguientes suposiciones acerca de las ecuaciones lineales de $n$-ésimo orden sobre algún intervalo en común $I$:"
   ]
  },
  {
   "cell_type": "markdown",
   "id": "d0f50232",
   "metadata": {},
   "source": [
    "<b>a. Las funciones coeficientes $a_{i}(x)$ para $i=0,1,2,...,n$ y $g(x)$ son continuas.</b>"
   ]
  },
  {
   "cell_type": "markdown",
   "id": "1a88e3e2",
   "metadata": {},
   "source": [
    "<b>b. La función coeficiente $a_{n}(x)\\neq0$ para todo el intervalo.</b>"
   ]
  },
  {
   "cell_type": "markdown",
   "id": "ec2e6035",
   "metadata": {},
   "source": [
    "<h2><span style=\"color:blue\" >3.1.2 Operadores diferenciales<span></h2>"
   ]
  },
  {
   "cell_type": "markdown",
   "id": "0faccf4e",
   "metadata": {},
   "source": [
    "En cálculo diferencial, la derivada de una función $y=y(x)$ se denota como $\\frac{dy}{dx}$. Es práctica común representar la derivada de la siguiente forma: $\\frac{d}{dx}=D$. Por tanto, la derivada de la función $y=y(x)$ puede representarse como $Dy$. Aquí, $D$ se conoce con el nombre de <b>operador diferencial</b>. La misión del operador diferencial es <b>convertir una función derivable en otra función.</b>"
   ]
  },
  {
   "cell_type": "markdown",
   "id": "8defb056",
   "metadata": {},
   "source": [
    "El concepto se puede generalizar para derivadas de $n$-ésimo orden:"
   ]
  },
  {
   "cell_type": "markdown",
   "id": "dc53740f",
   "metadata": {},
   "source": [
    "$$\n",
    "\\begin{equation}\n",
    "\\begin{aligned}\n",
    "L &=a_{n}(x)\\frac{d^{n}}{dx^{n}}+a_{n-1}(x)\\frac{d^{n-1}}{dx^{n-1}}+...+a_{1}(x)\\frac{d}{dx}+a_{0}(x)\\\\\n",
    "L &=a_{n}(x)D^{n}+a_{n-1}(x)D^{n-1}+...+a_{1}(x)D+a_{0}(x)\n",
    "\\end{aligned}\n",
    "\\label{ODE_H_03}\n",
    "\\tag{3}\n",
    "\\end{equation}\n",
    "$$"
   ]
  },
  {
   "cell_type": "markdown",
   "id": "ccb9ab75",
   "metadata": {},
   "source": [
    "de tal manera que $L(y)=a_{n}(x)\\frac{d^{n}y}{dx^{n}}+a_{n-1}(x)\\frac{d^{n-1}y}{dx^{n-1}}+...+a_{1}(x)\\frac{dy}{dx}+a_{0}(x)y$. $L$ se conoce con el nombre de operador lineal de $n$-ésimo orden."
   ]
  },
  {
   "cell_type": "markdown",
   "id": "38791c87",
   "metadata": {},
   "source": [
    "El operador diferencial de $n$-ésimo orden es lineal. Sean $f(x)$ y $g(x)$ dos funciones derivables y sean $\\alpha$ y $\\beta$ constantes, entonces se cumple lo siguiente:"
   ]
  },
  {
   "cell_type": "markdown",
   "id": "54c25b36",
   "metadata": {},
   "source": [
    "$$\n",
    "\\begin{equation}\n",
    "\\begin{aligned}\n",
    "L\\{\\alpha f(x)+ \\beta g(x)\\}= \\alpha L(f(x)) + \\beta L(g(x))\n",
    "\\end{aligned}\n",
    "\\label{ODE_H_04}\n",
    "\\tag{4}\n",
    "\\end{equation}\n",
    "$$"
   ]
  },
  {
   "cell_type": "markdown",
   "id": "35168498",
   "metadata": {},
   "source": [
    "En función del operador diferencial de $n$-ésimo orden, las ecuaciones ([1](#mjx-eqn-ODE_H_01)) y ([2](#mjx-eqn-ODE_H_02)) pueden expresarse respectivamente de la siguiente forma:"
   ]
  },
  {
   "cell_type": "markdown",
   "id": "c08a308a",
   "metadata": {},
   "source": [
    "$$\n",
    "\\begin{equation}\n",
    "\\begin{aligned}\n",
    "L(y) &= 0\\\\\n",
    "a_{n}(x)D^{n}y+a_{n-1}(x)D^{n-1}y+...+a_{1}(x)Dy+a_{0}(x)y &= 0\n",
    "\\end{aligned}\n",
    "\\label{ODE_H_05}\n",
    "\\tag{5}\n",
    "\\end{equation}\n",
    "$$"
   ]
  },
  {
   "cell_type": "markdown",
   "id": "0ef0a3cb",
   "metadata": {},
   "source": [
    "$$\n",
    "\\begin{equation}\n",
    "\\begin{aligned}\n",
    "L(y) &= g(x)\\\\\n",
    "a_{n}(x)D^{n}y+a_{n-1}(x)D^{n-1}y+...+a_{1}(x)Dy+a_{0}(x)y &= g(x)\n",
    "\\end{aligned}\n",
    "\\label{ODE_H_06}\n",
    "\\tag{6}\n",
    "\\end{equation}\n",
    "$$"
   ]
  },
  {
   "cell_type": "markdown",
   "id": "3c9581dd",
   "metadata": {},
   "source": [
    "<h2><span style=\"color:blue\" >3.1.2 Principio de superposición para ecuaciones homogéneas<span></h2>"
   ]
  },
  {
   "cell_type": "markdown",
   "id": "cd48c189",
   "metadata": {},
   "source": [
    "Sean $y_{1},y_{2},...,y_{k}$ soluciones de una EDO de $n$-ésimo orden (ecuación ([1](#mjx-eqn-ODE_H_01))) sobre un intervalo $I$. Entonces la combinación lineal:"
   ]
  },
  {
   "cell_type": "markdown",
   "id": "b0945f44",
   "metadata": {},
   "source": [
    "$$\n",
    "\\begin{equation}\n",
    "\\begin{aligned}\n",
    "y = c_{1}y_{1}(x)+c_{2}y_{2}(x)+...+c_{k}y_{k}(x)\n",
    "\\end{aligned}\n",
    "\\label{ODE_H_07}\n",
    "\\tag{7}\n",
    "\\end{equation}\n",
    "$$"
   ]
  },
  {
   "cell_type": "markdown",
   "id": "f0f8b2e1",
   "metadata": {},
   "source": [
    "donde las $c_{i}$, con $i = 0,1,2,...,k$ son constantes arbitrarias, <b>también es una solución de dicha ecuación sobre el intervalo $I$.</b>"
   ]
  },
  {
   "cell_type": "markdown",
   "id": "8cb321fc",
   "metadata": {},
   "source": [
    "Des esto pueden desprenderse dos importantes conclusiones:"
   ]
  },
  {
   "cell_type": "markdown",
   "id": "900109f6",
   "metadata": {},
   "source": [
    "<b>a. Un múltiplo constante $y=c_{1}y_{1}(x)$ de una solución $y_{1}(x)$ de una ecuación diferencial lineal homogénea es también una solución.</b>"
   ]
  },
  {
   "cell_type": "markdown",
   "id": "9f81dbb6",
   "metadata": {},
   "source": [
    "<b>b. Una ecuación diferencial homogénea tiene siempre la solución trivial $y=0$.</b>"
   ]
  },
  {
   "cell_type": "markdown",
   "id": "0c339741",
   "metadata": {},
   "source": [
    "Considere por ejemplo las funciones $y_{1}=e^{x}$, $y_{2}=e^{2x}$ y $y_{3}=e^{3x}$. Se ha verificado que estas son las soluciones de la ecuación diferencial lineal homogénea $y'''-6y''+11y'-6y=0$. Por el principio de superposición, $y = c_{1}e^{x}+c_{2}e^{2x}+c_{3}e^{3x}$ también será una solución de la ecuación diferencial planteada, en el intervalo $-\\infty<x<\\infty$."
   ]
  },
  {
   "cell_type": "markdown",
   "id": "0771bc61",
   "metadata": {},
   "source": [
    "<h2><span style=\"color:blue\" >3.1.3 Dependencia e independiencia lineal<span></h2>"
   ]
  },
  {
   "cell_type": "markdown",
   "id": "75496657",
   "metadata": {},
   "source": [
    "<h3><span style=\"color:green\"><b>a. Dependencia lineal de funciones</b></span></h3>"
   ]
  },
  {
   "cell_type": "markdown",
   "id": "8fff78ea",
   "metadata": {},
   "source": [
    "Se dice que un conjunto de funciones $f_{1}(x), f_{2}(x),...,f_{n}(x)$ es <b>linealmente dependiente</b> sobre un intervalo $I$ si existen constantes $c_{1}, c_{2},...,c_{n}$, <b>no todas cero</b>, tal que:"
   ]
  },
  {
   "cell_type": "markdown",
   "id": "6a2fc977",
   "metadata": {},
   "source": [
    "$$\n",
    "\\begin{equation}\n",
    "\\begin{aligned}\n",
    "c_{1}f_{1}(x)+c_{2}f_{2}(x)+...+c_{n}f_{n}(x)=0\n",
    "\\end{aligned}\n",
    "\\label{ODE_H_08}\n",
    "\\tag{8}\n",
    "\\end{equation}\n",
    "$$"
   ]
  },
  {
   "cell_type": "markdown",
   "id": "36d1c761",
   "metadata": {},
   "source": [
    "para toda $x$ en el intervalo. "
   ]
  },
  {
   "cell_type": "markdown",
   "id": "8e9765d4",
   "metadata": {},
   "source": [
    "Para entender este concepto considere las funciones $f_{1}(x)$ y $f_{2}(x)$. Con estas dos funciones se puede formar la combinación lineal $c_{1}f_{1}(x)+c_{2}f_{2}(x)$ en donde $c_{1}$ y $c_{2}$ son constantes arbitrarias. Según se explica, para que $f_{1}(x)$ y $f_{2}(x)$ sean linealmente dependientes, se deben escoger $c_{1}$ y $c_{2}$ de tal manera que $c_{1}f_{1}(x)+c_{2}f_{2}(x)=0$. "
   ]
  },
  {
   "cell_type": "markdown",
   "id": "d4124533",
   "metadata": {},
   "source": [
    "Suponga que $c_{1}\\neq 0$ y $c_{2}\\neq0$ y que de hecho $f_{1}(x)$ y $f_{2}(x)$ son linealmente dependientes. Entonces:"
   ]
  },
  {
   "cell_type": "markdown",
   "id": "46518f74",
   "metadata": {},
   "source": [
    "$$\n",
    "\\begin{align*}\n",
    "c_{1}f_{1}(x)+c_{2}f_{2}(x) &= 0\\\\\n",
    "f_{1}(x) &= -\\frac{c_{2}}{c_{1}}f_{2}(x)~~\\Rightarrow~~-\\frac{c_{2}}{c_{1}}=c_{3}\\\\\n",
    "f_{1}(x) &= {c_{3}}f_{2}(x)\n",
    "\\end{align*}\n",
    "$$"
   ]
  },
  {
   "cell_type": "markdown",
   "id": "13d8b91a",
   "metadata": {},
   "source": [
    "Este último resultado devela que si $f_{1}(x)$ y $f_{2}(x)$ son linealmente dependientes, $f_{2}(x)$ es un múltiplo constante de $f_{1}(x)$. De esto se puede concluir que <b> si un conjunto de dos funciones son linealmente dependientes, una es un múltiplo constante de la otra.</b> "
   ]
  },
  {
   "cell_type": "markdown",
   "id": "3e6c2f90",
   "metadata": {},
   "source": [
    "Por ejemplo, considere las funciones $f_{1}=\\sin{2x}$ y $f_{2}=\\sin{x}\\cos{x}$. Claramente se puede ver que $f_{1}=\\sin{2x}$ es un múltiplo constante de $f_{2}=\\sin{x}\\cos{x}$ debido a que $f_{1}=\\sin{2x}=\\color{blue}{2}\\sin{x}\\cos{x}$, es decir $f_{1}=\\color{blue}{2}f_{2}$."
   ]
  },
  {
   "cell_type": "markdown",
   "id": "d9a62de0",
   "metadata": {},
   "source": [
    "<h3><span style=\"color:green\"><b>a. Independencia lineal de funciones</b></span></h3>"
   ]
  },
  {
   "cell_type": "markdown",
   "id": "6ea06b07",
   "metadata": {},
   "source": [
    "Si las únicas constantes para las cuales se cumple la ecuación ([8](#mjx-eqn-ODE_H_08)) son $c_{1}= c_{2}=,...,=c_{n}=0$ para todo $x$ en el intervalo, entonces se dice que el conjunto de funciones es <b>linealmente independiente</b>. "
   ]
  },
  {
   "cell_type": "markdown",
   "id": "1d3dc587",
   "metadata": {},
   "source": [
    "En función de lo indicado anteriormente, considere dos funciones $f_{1}(x)$ y $f_{2}(x)$. Este <b>conjunto de funciones es linealmente independiente solo si ninguna función es múltiplo constante de la otra.</b>"
   ]
  },
  {
   "cell_type": "markdown",
   "id": "85e72d57",
   "metadata": {},
   "source": [
    "Por ejemplo considere las funciones $f_{1}=\\sin{x}$ y $f_{2}=e^{x}$. Estas pueden formar la combinación lineal $c_{1}\\sin{x}+c_{2}e^{x}$, en donde $c_{1}$ y $c_{2}$ son constantes arbitrarias. La única manera de que $c_{1}\\sin{x}+c_{2}e^{x}=0$ es solo si $c_{1}= 0$ y $c_{2}=0$, por lo que $f_{1}(x)$ y $f_{2}(x)$ son linealmente independientes."
   ]
  },
  {
   "cell_type": "markdown",
   "id": "fe367737",
   "metadata": {},
   "source": [
    "<h2><span style=\"color:blue\" >3.1.4 Wronskiano de un conjunto de funciones<span></h2>"
   ]
  },
  {
   "cell_type": "markdown",
   "id": "a71f2ce7",
   "metadata": {},
   "source": [
    "Suponga que un conjunto de funciones $f_{1}(x), f_{2}(x),...,f_{n}(x)$ tiene al menos $n-1$ derivadas. El determinante:"
   ]
  },
  {
   "cell_type": "markdown",
   "id": "7d7ba81f",
   "metadata": {},
   "source": [
    "$$\n",
    "\\begin{equation}\n",
    "\\begin{aligned}\n",
    "   W(f_{1},f_{2},...,f_{n})=\\begin{vmatrix} \n",
    "   f_{1} & f_{2} &...& f_{n}  \\\\\n",
    "   f_{1}' & f_{2}' &... &f_{n}' \\\\\n",
    "   \\vdots&\\vdots&\\vdots&\\vdots \\\\\n",
    "   f_{1}^{(n-1)} & f_{2}^{(n-1)} &... &f_{n}^{(n-1)}\\\\\n",
    "   \\end{vmatrix} \n",
    "\\end{aligned}\n",
    "\\label{ODE_H_09}\n",
    "\\tag{9}\n",
    "\\end{equation}\n",
    "$$"
   ]
  },
  {
   "cell_type": "markdown",
   "id": "354daa23",
   "metadata": {},
   "source": [
    "donde las primas denotan las derivadas se denomina Wronskiano del conjunto de funciones."
   ]
  },
  {
   "cell_type": "markdown",
   "id": "c5ae6078",
   "metadata": {},
   "source": [
    "Por ejemplo, considere nuevamente las funciones $y_{1}=e^{x}$, $y_{2}=e^{2x}$ y $y_{3}=e^{3x}$, soluciones de la ecuación diferencial lineal homogénea $y'''-6y''+11y'-6y=0$. Para estas tres funciones, el Wronskiano será:"
   ]
  },
  {
   "cell_type": "markdown",
   "id": "267f03bf",
   "metadata": {},
   "source": [
    "$$\n",
    "\\begin{align*}\n",
    "   W(y_{1},y_{2},y_{3})=\n",
    "   \\begin{vmatrix} \n",
    "   y_{1} & y_{2} & y_{3}  \\\\\n",
    "   y_{1}' & y_{2}' &y_{3}' \\\\\n",
    "   y_{1}'' & y_{2}''&y_{3}''\\\\\n",
    "   \\end{vmatrix}=\n",
    "   \\begin{vmatrix} \n",
    "   e^{x} & e^{2x}  & e^{3x}  \\\\\n",
    "   e^{x} & 2e^{2x} & 3e^{3x} \\\\\n",
    "   e^{x} & 4e^{2x} & 9e^{3x}\\\\\n",
    "   \\end{vmatrix}\n",
    "\\end{align*}\n",
    "$$"
   ]
  },
  {
   "cell_type": "markdown",
   "id": "8e004599",
   "metadata": {},
   "source": [
    "El último determinante puede resolverse por el método de menores:"
   ]
  },
  {
   "cell_type": "markdown",
   "id": "4ca8e052",
   "metadata": {},
   "source": [
    "$$\n",
    "\\begin{align*}\n",
    "W(e^{x}, e^{2x}, e^{3x}) &= \\begin{vmatrix} \n",
    "   e^{x} & e^{2x}  & e^{3x}  \\\\\n",
    "   e^{x} & 2e^{2x} & 3e^{3x} \\\\\n",
    "   e^{x} & 4e^{2x} & 9e^{3x}\\\\\n",
    "   \\end{vmatrix} =\n",
    "   e^{x}\\begin{vmatrix}\n",
    "   2e^{2x} & 3e^{3x}\\\\\n",
    "   4e^{2x} & 9e^{3x}\\\\\n",
    "   \\end{vmatrix}-\n",
    "   e^{2x}\\begin{vmatrix}\n",
    "   e^{x} & 3e^{3x}\\\\\n",
    "   e^{x} & 9e^{3x}\\\\\n",
    "   \\end{vmatrix}+\n",
    "   e^{3x}\\begin{vmatrix}\n",
    "   e^{x} & 2e^{2x}\\\\\n",
    "   e^{x} & 4e^{2x}\\\\\n",
    "   \\end{vmatrix}\\\\\n",
    "   W(e^{x}, e^{2x}, e^{3x}) &=\\begin{vmatrix} \n",
    "   e^{x} & e^{2x}  & e^{3x}  \\\\\n",
    "   e^{x} & 2e^{2x} & 3e^{3x} \\\\\n",
    "   e^{x} & 4e^{2x} & 9e^{3x}\\\\\n",
    "   \\end{vmatrix} = e^{x}(18e^{5x}-12e^{5x})-e^{2x}(9e^{4x}-3e^{4x})+e^{3x}(4e^{3x}-2e^{3x})\\\\\n",
    "   W(e^{x}, e^{2x}, e^{3x}) &= \\begin{vmatrix} \n",
    "   e^{x} & e^{2x}  & e^{3x}  \\\\\n",
    "   e^{x} & 2e^{2x} & 3e^{3x} \\\\\n",
    "   e^{x} & 4e^{2x} & 9e^{3x}\\\\\n",
    "   \\end{vmatrix} = 6e^{6x}-6e^{6x}+2e^{6x}=2e^{6x}\n",
    "\\end{align*}\n",
    "$$"
   ]
  },
  {
   "cell_type": "markdown",
   "id": "93455d8a",
   "metadata": {},
   "source": [
    "Por tanto, $W(e^{x}, e^{2x}, e^{3x})=2e^{6x}$."
   ]
  },
  {
   "cell_type": "markdown",
   "id": "35d7dd9a",
   "metadata": {},
   "source": [
    "<h2><span style=\"color:blue\" >3.1.5 Criterio para un conjunto de soluciones linealmente independientes<span></h2>"
   ]
  },
  {
   "cell_type": "markdown",
   "id": "061dd555",
   "metadata": {},
   "source": [
    "Sean $y_{1},y_{2},...,y_{n}$, $n$ soluciones de la ecuación diferencial lineal homogénea de $n$-ésimo orden (ecuación ([1](#mjx-eqn-ODE_H_01))) sobre el intervalo $I$. El conjunto de soluciones es <b>linealmente independiente</b> en $I$ si y solo si $W(f_{1},f_{2},...,f_{n})\\neq0$ para toda $x$ en el intervalo."
   ]
  },
  {
   "cell_type": "markdown",
   "id": "68313ecd",
   "metadata": {},
   "source": [
    "Por ejemplo, las soluciones $y_{1}=e^{x}$, $y_{2}=e^{2x}$ y $y_{3}=e^{3x}$ de la ecuación diferencial lineal homogénea $y'''-6y''+11y'-6y=0$ son linealmente independientes, ya que como se demostró en la sección anterior su Wronskiano $W(e^{x}, e^{2x}, e^{3x})=2e^{6x}\\neq 0$ para toda $x$ en el intervalo $-\\infty<x<\\infty$."
   ]
  },
  {
   "cell_type": "markdown",
   "id": "c8914853",
   "metadata": {},
   "source": [
    "<h2><span style=\"color:blue\" >3.1.6 Conjunto fundamental de soluciones<span></h2>"
   ]
  },
  {
   "cell_type": "markdown",
   "id": "535440c2",
   "metadata": {},
   "source": [
    "Cualquier conjunto $y_{1},y_{2},...,y_{n}$ de $n$ soluciones <b>linealmente independientes</b> de la ecuación diferencial lineal homogénea de $n$-ésimo orden (ecuación ([1](#mjx-eqn-ODE_H_01))) sobre un intervalo $I$ es un <b>conjunto fundamental de soluciones</b> sobre el intervalo."
   ]
  },
  {
   "cell_type": "markdown",
   "id": "7f80ce4b",
   "metadata": {},
   "source": [
    "Por ejemplo, las funciones $y_{1}=e^{x}$, $y_{2}=e^{2x}$ y $y_{3}=e^{3x}$ son linealmente independientes y por tanto constituyen un conjunto fundamental de soluciones de la ecuación diferencial lineal homogénea $y'''-6y''+11y'-6y=0$ en el intervalo $-\\infty<x<\\infty$."
   ]
  },
  {
   "cell_type": "markdown",
   "id": "c32db316",
   "metadata": {},
   "source": [
    "<h2><span style=\"color:blue\" >3.1.7 Solución general de ecuaciones homogéneas<span></h2>"
   ]
  },
  {
   "cell_type": "markdown",
   "id": "1281fefe",
   "metadata": {},
   "source": [
    "Sean $y_{1},y_{2},...,y_{n}$ un conjunto fundamental de soluciones de la ecuación diferencial lineal homogénea de $n$-ésimo orden (ecuación ([1](#mjx-eqn-ODE_H_01))) sobre el intervalo $I$. Entonces, la solución general de la ecuación sobre el intervalo es:"
   ]
  },
  {
   "cell_type": "markdown",
   "id": "81a8057f",
   "metadata": {},
   "source": [
    "$$\n",
    "\\begin{equation}\n",
    "\\begin{aligned}\n",
    "y = c_{1}y_{1}(x)+c_{2}y_{2}(x)+...+c_{n}y_{n}(x)\n",
    "\\end{aligned}\n",
    "\\label{ODE_H_10}\n",
    "\\tag{10}\n",
    "\\end{equation}\n",
    "$$"
   ]
  },
  {
   "cell_type": "markdown",
   "id": "0d9bc025",
   "metadata": {},
   "source": [
    "donde las $c_{i}$, con $i = 0,1,2,...,k$ son $n$ constantes arbitrarias"
   ]
  },
  {
   "cell_type": "markdown",
   "id": "571f044d",
   "metadata": {},
   "source": [
    "Como se vio anteriormente, las funciones $y_{1}=e^{x}$, $y_{2}=e^{2x}$ y $y_{3}=e^{3x}$ constituyen un conjunto fundamental de solucioles de la ecuación diferencial lineal homogénea $y'''-6y''+11y'-6y=0$ en el intervalo $-\\infty<x<\\infty$. Por tanto, la solución general de dicha escuación es $y= c_{1}e^{x}+c_{2}e^{2x}+c_{3}e^{3x}$ en el mismo intervalo. "
   ]
  },
  {
   "cell_type": "markdown",
   "id": "d600e297",
   "metadata": {},
   "source": [
    "<h2><span style=\"color:blue\" >3.1.8 Ecuaciones diferenciales lineales homogéneas con coeficientes constantes de segundo orden<span></h2>"
   ]
  },
  {
   "cell_type": "markdown",
   "id": "2fb65e5b",
   "metadata": {},
   "source": [
    "<h3><span style=\"color:green\"><b>a. Introducción</b></span></h3>"
   ]
  },
  {
   "cell_type": "markdown",
   "id": "dfa8188f",
   "metadata": {},
   "source": [
    "Para determinar la forma de las soluciones de una EDO lineal homogénea (ecuación ([1](#mjx-eqn-ODE_H_01))), considere en primer lugar la EDO lineal homogénea de primer orden:"
   ]
  },
  {
   "cell_type": "markdown",
   "id": "7a9e8b71",
   "metadata": {},
   "source": [
    "$$\n",
    "\\begin{equation}\n",
    "\\begin{aligned}\n",
    "a\\frac{dy}{dx}+by =0\n",
    "\\end{aligned}\n",
    "\\label{ODE_H_11}\n",
    "\\tag{11}\n",
    "\\end{equation}\n",
    "$$"
   ]
  },
  {
   "cell_type": "markdown",
   "id": "b5721b8b",
   "metadata": {},
   "source": [
    "en donde <b>a y b son constantes</b>.Acomodando términos se llega a:"
   ]
  },
  {
   "cell_type": "markdown",
   "id": "be2f37b0",
   "metadata": {},
   "source": [
    "$$\n",
    "\\begin{align*}\n",
    "\\frac{dy}{dx} &=-\\frac{b}{a}y~~\\Rightarrow~~\\color{green}{k}=\\color{green}{-\\frac{b}{a}}\\\\\n",
    "\\frac{dy}{dx} &=ky\\\\\n",
    "\\int \\frac{dy}{y} &= \\int k dx\\\\\n",
    "\\ln{|y|} &= kx + c\\\\\n",
    "e^{\\ln{|y|}} &= e^{c}e^{kx}~~\\Rightarrow~~\\color{green}{c_{1}}=\\color{green}{e^{c}}\\\\\n",
    "|y|&= c_{1}e^{kx}\\\\\n",
    "y &= c_{2}e^{kx}~~\\Rightarrow~~\\color{green}{c_{2}}=\\color{green}{\\pm c_{1}}\\\\\n",
    "\\end{align*}\n",
    "$$"
   ]
  },
  {
   "cell_type": "markdown",
   "id": "9b3e9e8a",
   "metadata": {},
   "source": [
    "La familia de soluciones uniparamétrica de la ecuación ([11](#mjx-eqn-ODE_H_11)) es $y=c_{2}e^{kx}$. Esto nos puede dar una pista acerca de la forma de las soluciones de EDO lineales homogéneas con <b>con coeficientes constantes</b> de segundo orden y de orden superior. "
   ]
  },
  {
   "cell_type": "markdown",
   "id": "b5972c95",
   "metadata": {},
   "source": [
    "<h3><span style=\"color:green\"><b>b. Ecuación auxiliar</b></span></h3>"
   ]
  },
  {
   "cell_type": "markdown",
   "id": "cbad3950",
   "metadata": {},
   "source": [
    "Supongamos entonces que la forma genérica de las soluciones de EDO lineales homogéneas con <b>con coeficientes constantes</b> de segundo orden es $y=e^{mx}$, donde $m$ es una constante. Supongamos también que debemos resolver la siguiente EDO lineal homogénea con coeficientes constantes:"
   ]
  },
  {
   "cell_type": "markdown",
   "id": "f08d4ce1",
   "metadata": {},
   "source": [
    "$$\n",
    "\\begin{equation}\n",
    "\\begin{aligned}\n",
    "a\\frac{d^{2}y}{dx^{2}}+b\\frac{dy}{dx}+cy &=0\\\\\n",
    "\\frac{d^{2}y}{dx^{2}}+\\color{blue}{\\frac{b}{a}}\\frac{dy}{dx}+\\color{green}{\\frac{c}{a}}y &=0\\\\\n",
    "\\frac{d^{2}y}{dx^{2}}+\\color{blue}{P(x)}\\frac{dy}{dx}+\\color{green}{Q(x)}y &=0\\\\\n",
    "\\end{aligned}\n",
    "\\label{ODE_H_12}\n",
    "\\tag{12}\n",
    "\\end{equation}\n",
    "$$"
   ]
  },
  {
   "cell_type": "markdown",
   "id": "bb0a16ee",
   "metadata": {},
   "source": [
    "Dado que sabemos la forma de las soluciones, se pueden determinar las siguientes cantidades:"
   ]
  },
  {
   "cell_type": "markdown",
   "id": "a247e98c",
   "metadata": {},
   "source": [
    "$$\n",
    "\\begin{align*}\n",
    "y &= e^{mx}\\\\\n",
    "\\frac{dy}{dx} &= me^{mx}\\\\\n",
    "\\frac{d^{2}y}{dx^{2}} &= m^{2}e^{mx}\\\\\n",
    "\\end{align*}\n",
    "$$"
   ]
  },
  {
   "cell_type": "markdown",
   "id": "4858ddb7",
   "metadata": {},
   "source": [
    "Reemplazando estos resultados en la ecuación ([12](#mjx-eqn-ODE_H_12)) se llega a:"
   ]
  },
  {
   "cell_type": "markdown",
   "id": "8a8d7e04",
   "metadata": {},
   "source": [
    "$$\n",
    "\\begin{align*}\n",
    "am^{2}e^{mx}+bme^{mx}+c &=0\\\\\n",
    "e^{mx}(am^{2}+bm+c) &=0\n",
    "\\end{align*}\n",
    "$$"
   ]
  },
  {
   "cell_type": "markdown",
   "id": "9988f064",
   "metadata": {},
   "source": [
    "Dado que $e^{mx}$ no puede ser $0$ para ningún valor de $x$, entonces la única posibilidad de que se cumpla la última igualdad es:"
   ]
  },
  {
   "cell_type": "markdown",
   "id": "03e0ff3f",
   "metadata": {},
   "source": [
    "$$\n",
    "\\begin{equation}\n",
    "\\begin{aligned}\n",
    "am^{2}+bm+c = 0\n",
    "\\end{aligned}\n",
    "\\label{ODE_H_13}\n",
    "\\tag{13}\n",
    "\\end{equation}\n",
    "$$"
   ]
  },
  {
   "cell_type": "markdown",
   "id": "38a48946",
   "metadata": {},
   "source": [
    "La ecuación ([13](#mjx-eqn-ODE_H_13)) se conoce con el nombre de <b>ecuación auxiliar de la ecuación diferencial</b>. Para poder resolver esta ecuación auxiliar, podemos recurrir a la fórmula general cuadrática:"
   ]
  },
  {
   "cell_type": "markdown",
   "id": "019bc947",
   "metadata": {},
   "source": [
    "$$\n",
    "\\begin{equation}\n",
    "\\begin{aligned}\n",
    "m = \\frac{-b\\pm\\sqrt{b^{2}-4ac}}{2a}\n",
    "\\end{aligned}\n",
    "\\label{ODE_H_14}\n",
    "\\tag{14}\n",
    "\\end{equation}\n",
    "$$"
   ]
  },
  {
   "cell_type": "markdown",
   "id": "8597df25",
   "metadata": {},
   "source": [
    "El discriminate $b^{2}-4ac$ de la ecuación ([14](#mjx-eqn-ODE_H_14)) permitirá plantear tres casos distintos de solución general para la ecuación ([12](#mjx-eqn-ODE_H_12)). "
   ]
  },
  {
   "cell_type": "markdown",
   "id": "45af1118",
   "metadata": {},
   "source": [
    "<h3><span style=\"color:green\"><b>c. Soluciones generales de una EDO lineal homogénea con coeficientes constantes de segundo orden</b></span></h3>"
   ]
  },
  {
   "cell_type": "markdown",
   "id": "d6449501",
   "metadata": {},
   "source": [
    "<h4><span style=\"color:brown\"><b>c.1 Raíces reales y distintas</b></span></h4>"
   ]
  },
  {
   "cell_type": "markdown",
   "id": "85ad8c94",
   "metadata": {},
   "source": [
    "En este caso, el discriminante de la ecuación ([14](#mjx-eqn-ODE_H_14)) $b^{2}-4ac>0$, por lo que se generan dos raíces reales y distintas de la ecuación auxiliar ([13](#mjx-eqn-ODE_H_13)), a saber $m_{1}$ y $m_{2}$. Con esto, se puede plantear que las soluciones de la EDO lineal homogénea con coeficientes constantes de segundo orden tienen la forma $y_{1}=e^{m_{1}x}$ y  $y_{2}=e^{m_{2}x}$. "
   ]
  },
  {
   "cell_type": "markdown",
   "id": "63b382c8",
   "metadata": {},
   "source": [
    "Es fácil demostrar que $y_{1}=e^{m_{1}x}$ y $y_{2}=e^{m_{2}x}$ son linealmente independientes en el intervalo $-\\infty<x<\\infty$, por lo cual forman un conjunto fundamental de soluciones para la ecuación ([12](#mjx-eqn-ODE_H_12)). Por tanto, la solución general de la ecuación ([12](#mjx-eqn-ODE_H_12)) vendrá dada por:"
   ]
  },
  {
   "cell_type": "markdown",
   "id": "4fca076b",
   "metadata": {},
   "source": [
    "$$\n",
    "\\begin{equation}\n",
    "\\begin{aligned}\n",
    "y = c_{1}e^{m_{1}x}+c_{2}e^{m_{2}x}\n",
    "\\end{aligned}\n",
    "\\label{ODE_H_15}\n",
    "\\tag{15}\n",
    "\\end{equation}\n",
    "$$"
   ]
  },
  {
   "cell_type": "markdown",
   "id": "368ce9e6",
   "metadata": {},
   "source": [
    "Como ejemplo, considere resolver la siguiente ecuación diferencial:"
   ]
  },
  {
   "cell_type": "markdown",
   "id": "79e8c63b",
   "metadata": {},
   "source": [
    "$$\n",
    "\\begin{equation}\n",
    "\\begin{aligned}\n",
    "y''-3y'+2y=0\n",
    "\\end{aligned}\n",
    "\\label{ODE_H_16}\n",
    "\\tag{16}\n",
    "\\end{equation}\n",
    "$$"
   ]
  },
  {
   "cell_type": "markdown",
   "id": "70b5cfac",
   "metadata": {},
   "source": [
    "Dado que se conoce la forma se las soluciones de una EDO lineal homogénea con coeficientes constantes de segundo orden, es posible plantear que:"
   ]
  },
  {
   "cell_type": "markdown",
   "id": "b6c94f88",
   "metadata": {},
   "source": [
    "$$\n",
    "\\begin{align*}\n",
    "y &= e^{mx}\\\\\n",
    "\\frac{dy}{dx} &= me^{mx}\\\\\n",
    "\\frac{d^{2}y}{dx^{2}} &= m^{2}e^{mx}\\\\\n",
    "\\end{align*}\n",
    "$$"
   ]
  },
  {
   "cell_type": "markdown",
   "id": "cb605113",
   "metadata": {},
   "source": [
    "Reemplazando estos resultados en la ecuación ([16](#mjx-eqn-ODE_H_16)) se tiene:"
   ]
  },
  {
   "cell_type": "markdown",
   "id": "9436a970",
   "metadata": {},
   "source": [
    "$$\n",
    "\\begin{align*}\n",
    "m^{2}e^{mx}-3me^{mx}+2e^{mx} &=0\\\\\n",
    "e^{mx}(m^{2}-3m+2) &=0\n",
    "\\end{align*}\n",
    "$$"
   ]
  },
  {
   "cell_type": "markdown",
   "id": "6d3ef5fa",
   "metadata": {},
   "source": [
    "La función $e^{mx}$ no puede ser $0$ para ningún valor de $x$, por lo que:"
   ]
  },
  {
   "cell_type": "markdown",
   "id": "6578fa09",
   "metadata": {},
   "source": [
    "$$\n",
    "\\begin{align*}\n",
    "m^{2}-3m+2 &=0\\\\\n",
    "(m-2)(m-1) &= 0\\\\\n",
    "m_{1}=2,~~m_{2}=1\n",
    "\\end{align*}\n",
    "$$"
   ]
  },
  {
   "cell_type": "markdown",
   "id": "c310904f",
   "metadata": {},
   "source": [
    "$m_{1}$ y $m_{2}$ son dos raíces reales y distintas de la ecuación auxiliar de la ecuación diferencial. Con esto, la solución general de la ecuación ([16](#mjx-eqn-ODE_H_16)) es:"
   ]
  },
  {
   "cell_type": "markdown",
   "id": "af3d6d29",
   "metadata": {},
   "source": [
    "$$\n",
    "\\begin{align*}\n",
    "y = c_{1}e^{2x}+c_{2}e^{x}\n",
    "\\end{align*}\n",
    "$$"
   ]
  },
  {
   "cell_type": "markdown",
   "id": "7d84e048",
   "metadata": {},
   "source": [
    "La gráfica de la solución general se muestra en las Figuras 1 y 2:"
   ]
  },
  {
   "cell_type": "code",
   "execution_count": 1,
   "id": "4a94e511",
   "metadata": {},
   "outputs": [],
   "source": [
    "import numpy as np\n",
    "from  scipy.integrate import odeint\n",
    "%matplotlib inline\n",
    "#%matplotlib widget\n",
    "import matplotlib.pyplot as plt\n",
    "from matplotlib import cm\n",
    "from mpl_toolkits.mplot3d import Axes3D\n",
    "from matplotlib import animation"
   ]
  },
  {
   "cell_type": "code",
   "execution_count": 11,
   "id": "e283de8c",
   "metadata": {},
   "outputs": [
    {
     "data": {
      "image/png": "[encoded data removed]",
      "text/plain": [
       "<Figure size 720x360 with 2 Axes>"
      ]
     },
     "metadata": {
      "needs_background": "light"
     },
     "output_type": "display_data"
    }
   ],
   "source": [
    "def f(x,c1,c2):\n",
    "    return c1*np.exp(2*x)+c2*np.exp(x)\n",
    "\n",
    "x1 = np.linspace(0,2,200)\n",
    "x2 = np.linspace(0,5,200)\n",
    "\n",
    "c11 = [-4,-2,0,2,4]\n",
    "c21 = [1]\n",
    "fig, (ax1,ax2) = plt.subplots(1,2,figsize=(10,5))\n",
    "for i in range(len(c11)):\n",
    "    ax1.plot(x1,f(x1,c11[i],c21), label = r'$c_{1} =$'+str(c11[i]))\n",
    "ax1.set_title('Fig.1. Solución general de la EDO 16 con c2=1')\n",
    "ax1.legend()\n",
    "    \n",
    "c21 = [1]\n",
    "c22 = [-4,-2,0,2,4]\n",
    "for j in range(len(c22)):\n",
    "    ax2.plot(x2,f(x2,c21,c22[j]), label = r'$c_{2} =$'+str(c22[j]))\n",
    "ax2.set_ylim(-200,300)\n",
    "ax2.set_title('Fig.2. Solución general de la EDO 16 con c1=1')\n",
    "ax2.legend()\n",
    "plt.show()\n"
   ]
  },
  {
   "cell_type": "markdown",
   "id": "175d5f6e",
   "metadata": {},
   "source": [
    "<h4><span style=\"color:brown\"><b>c.2 Raíces reales y repetidas</b></span></h4>"
   ]
  },
  {
   "cell_type": "markdown",
   "id": "43026435",
   "metadata": {},
   "source": [
    "En este caso, el discriminante de la ecuación ([14](#mjx-eqn-ODE_H_14)) $b^{2}-4ac=0$, por lo que se generan dos raíces reales e iguales de la ecuación auxiliar ([13](#mjx-eqn-ODE_H_13)), a saber $m_{1}=m_{2}$. Con esto, se obtiene una sola solución de la EDO lineal homogénea con coeficientes constantes de segundo orden: $y_{1}=e^{m_{1}x}$."
   ]
  },
  {
   "cell_type": "markdown",
   "id": "d890b2ea",
   "metadata": {},
   "source": [
    "Para encontrar la segunda solución se tiene que aplicar el método de reducción de orden."
   ]
  },
  {
   "cell_type": "markdown",
   "id": "975884bb",
   "metadata": {},
   "source": [
    "<h5><span style=\"color:purple\"><b>c.2.1 Método de reducción de orden</b></span></h5>"
   ]
  },
  {
   "cell_type": "markdown",
   "id": "f0118ab1",
   "metadata": {},
   "source": [
    "Para ecuaciones diferenciales lineales homogéneas de segundo orden (no necesariamente de coeficientes constantes): "
   ]
  },
  {
   "cell_type": "markdown",
   "id": "a09ac983",
   "metadata": {},
   "source": [
    "$$\n",
    "\\begin{equation}\n",
    "\\begin{aligned}\n",
    "a_{2}(x)\\frac{d^{2}y}{dx^{2}}+a_{1}(x)\\frac{dy}{dx}+a_{0}(x)y=0\n",
    "\\end{aligned}\n",
    "\\label{ODE_H_17}\n",
    "\\tag{17}\n",
    "\\end{equation}\n",
    "$$"
   ]
  },
  {
   "cell_type": "markdown",
   "id": "b45183ed",
   "metadata": {},
   "source": [
    "el objetivo del método de reducción de orden es encontrar una segunda solución $y_{2}(x)$ a partir de una solución no trivial conocida $y_{1}(x)$ definida sobre un intervalo $I$. "
   ]
  },
  {
   "cell_type": "markdown",
   "id": "d5e0f438",
   "metadata": {},
   "source": [
    "De la teoría de ecuaciones diferenciales lineales, se sabe que $y_{1}(x)$ y $y_{2}(x)$ deben ser linealmente independientes (de tal manera que formen un conjunto fundamental de soluciones y puedan constituir la solución general). Si esto es cierto, el cociente:"
   ]
  },
  {
   "cell_type": "markdown",
   "id": "198e23c1",
   "metadata": {},
   "source": [
    "$$\n",
    "\\begin{align*}\n",
    "\\frac{y_{2}(x)}{y_{1}(x)} &=u(x)\\\\\n",
    "y_{2}(x) &= u(x){y_{1}(x)}\n",
    "\\end{align*}\n",
    "$$"
   ]
  },
  {
   "cell_type": "markdown",
   "id": "a5250b27",
   "metadata": {},
   "source": [
    "no es constante (genera otra función $u(x)$). "
   ]
  },
  {
   "cell_type": "markdown",
   "id": "56b88cbf",
   "metadata": {},
   "source": [
    "Para desarrollar el método, colóquese la ecuación ([17](#mjx-eqn-ODE_H_17)) en su forma estándar, dividiendo ambos miembros de esta entre $a_{2}(x)$:"
   ]
  },
  {
   "cell_type": "markdown",
   "id": "83527f1d",
   "metadata": {},
   "source": [
    "$$\n",
    "\\begin{equation}\n",
    "\\begin{aligned}\n",
    "\\frac{d^{2}y}{dx^{2}}+P(x)\\frac{dy}{dx}+Q(x)y=0\n",
    "\\end{aligned}\n",
    "\\label{ODE_H_18}\n",
    "\\tag{18}\n",
    "\\end{equation}\n",
    "$$"
   ]
  },
  {
   "cell_type": "markdown",
   "id": "c14a8f49",
   "metadata": {},
   "source": [
    "en donde $P(x)=\\frac{a_{1}(x)}{a_{2}(x)}$ y $Q(x)=\\frac{a_{0}(x)}{a_{2}(x)}$. Supóngase también que $P(x)$ y $Q(x)$ son continuas en algún intervalo $I$. "
   ]
  },
  {
   "cell_type": "markdown",
   "id": "f9e7f20c",
   "metadata": {},
   "source": [
    "Como se explicó anteriormente, asuma que $y_{1}(x)$ es una solución conocida de la ecuación ([18](#mjx-eqn-ODE_H_18)) sobre el intervalo $I$ y que además $y_{1}(x)\\neq 0$ para toda $x$ en el intervalo. Si $y_{2}(x) = u(x){y_{1}(x)}$ es una solución de la ecuación ([18](#mjx-eqn-ODE_H_18)), entonces esta debe satisfacer la misma. Dicho de otra manera, al reemplazar esta solución en la mencionada ecuación deberá obtenerse la identidad $0=0$:"
   ]
  },
  {
   "cell_type": "markdown",
   "id": "5726fbe3",
   "metadata": {},
   "source": [
    "$$\n",
    "\\begin{align*}\n",
    "y_{2}&= uy_{1}\\\\\n",
    "\\frac{dy_{2}}{dx} &= uy_{1}'+ y_{1}u'\\\\\n",
    "\\frac{d^{2}y_{2}}{dx^{2}} &= uy_{1}''+y_{1}'u'+y_{1}'u'+y_{1}u''=uy_{1}''+2y_{1}'u'+y_{1}u''\n",
    "\\end{align*}\n",
    "$$"
   ]
  },
  {
   "cell_type": "markdown",
   "id": "124c583d",
   "metadata": {},
   "source": [
    "Reemplazando estos resultados en la ecuación ([18](#mjx-eqn-ODE_H_18)):"
   ]
  },
  {
   "cell_type": "markdown",
   "id": "b2adf831",
   "metadata": {},
   "source": [
    "$$\n",
    "\\begin{align*}\n",
    "\\frac{d^{2}y}{dx^{2}}+P(x)\\frac{dy}{dx}+Q(x)y &=0\\\\\n",
    "(uy_{1}''+2y_{1}'u'+y_{1}u'')+P(x)(uy_{1}'+ y_{1}u')+Q(x)(u{y_{1}}) &=0 \\\\\n",
    "\\end{align*}\n",
    "$$"
   ]
  },
  {
   "cell_type": "markdown",
   "id": "bb36a0bd",
   "metadata": {},
   "source": [
    "Reorganizando términos para dejar todo en función de $u(x)$ y sus derivadas:"
   ]
  },
  {
   "cell_type": "markdown",
   "id": "4ef1fe14",
   "metadata": {},
   "source": [
    "$$\n",
    "\\begin{align*}\n",
    "y_{1}u''+(2y_{1}'+P(x)y_{1})u'+\\color{blue}{(y_{1}''+P(x)y_{1}+y_{1})}u=0\n",
    "\\end{align*}\n",
    "$$"
   ]
  },
  {
   "cell_type": "markdown",
   "id": "fb6162ad",
   "metadata": {},
   "source": [
    "Ya que $y_{1}$ es una solución de la ecuación ([18](#mjx-eqn-ODE_H_18)), entonces al reemplazarla en la mencionada ecuación da como resultado $y_{1}''+P(x)y_{1}+y_{1}=0$. "
   ]
  },
  {
   "cell_type": "markdown",
   "id": "f4d369f7",
   "metadata": {},
   "source": [
    "Por tanto:"
   ]
  },
  {
   "cell_type": "markdown",
   "id": "3fe2b50c",
   "metadata": {},
   "source": [
    "$$\n",
    "\\begin{align*}\n",
    "y_{1}u''+(2y_{1}'+P(x)y_{1})u'=0\n",
    "\\end{align*}\n",
    "$$"
   ]
  },
  {
   "cell_type": "markdown",
   "id": "6f9ff10b",
   "metadata": {},
   "source": [
    "Podemos resolver la última ecuación con la sustitución $w=u'$(y por tanto $w'=u''$), con lo cual <b>se reduce el orden de la ecuación</b>, pasando de segundo orden en $u$ a primer orden en $w$. De ahí el nombre del método:"
   ]
  },
  {
   "cell_type": "markdown",
   "id": "976d868d",
   "metadata": {},
   "source": [
    "$$\n",
    "\\begin{align*}\n",
    "y_{1}w'+(2y_{1}'+P(x)y_{1})w=0\n",
    "\\end{align*}\n",
    "$$"
   ]
  },
  {
   "cell_type": "markdown",
   "id": "8cc1386f",
   "metadata": {},
   "source": [
    "La última ecuación es tanto lineal como separable:"
   ]
  },
  {
   "cell_type": "markdown",
   "id": "1a3d2b19",
   "metadata": {},
   "source": [
    "$$\n",
    "\\begin{align*}\n",
    "y_{1}\\frac{dw}{dx}+(2y_{1}'+P(x)y_{1})w &=0\\\\\n",
    "\\end{align*}\n",
    "$$"
   ]
  },
  {
   "cell_type": "markdown",
   "id": "4888a034",
   "metadata": {},
   "source": [
    "Multiplicando ambos miembros por $dx$, dividiendo para $y_{1}w$ y simplificando:"
   ]
  },
  {
   "cell_type": "markdown",
   "id": "2ed73745",
   "metadata": {},
   "source": [
    "$$\n",
    "\\begin{align*}\n",
    "\\frac{dw}{w}+2\\frac{y_{1}'}{y_{1}}dx+P(x)dx &=0\\\\\n",
    "\\frac{dw}{w}+\\frac{2}{y_{1}}\\frac{dy_{1}}{dx}dx+P(x)dx &=0\\\\\n",
    "\\frac{dw}{w}+2\\frac{dy_{1}}{y_{1}}+P(x)dx &=0\\\\\n",
    "\\end{align*}\n",
    "$$"
   ]
  },
  {
   "cell_type": "markdown",
   "id": "15f6b013",
   "metadata": {},
   "source": [
    "Integrando la última expresión:"
   ]
  },
  {
   "cell_type": "markdown",
   "id": "e0668e81",
   "metadata": {},
   "source": [
    "$$\n",
    "\\begin{align*}\n",
    "\\frac{dw}{w}+2\\frac{dy_{1}}{y_{1}} &= -P(x)dx\\\\\n",
    "\\int \\frac{dw}{w}+ 2\\int \\frac{dy_{1}}{y_{1}} &= -\\int P(x)dx\\\\ \n",
    "\\ln{|w|}+2\\ln{|y_{1}|} &= -\\int P(x)dx + c\\\\\n",
    "\\ln{|w||y_{1}^{2}|} &= -\\int P(x)dx + c\\\\\n",
    "e^{\\ln{|w||y_{1}^{2}|}} &= e^{-\\int P(x)dx + c}\\\\\n",
    "|w||y_{1}^{2}| &=e^{c}e^{-\\int P(x)dx}\\\\\n",
    "|w||y_{1}^{2}| &= c_{1}e^{-\\int P(x)dx}~~\\Rightarrow~~\\color{green}{c_{1}}=\\color{green}{e^{c}}\\\\\n",
    "wy_{1}^{2}&= c_{2}e^{-\\int P(x)dx}~~\\Rightarrow~~\\color{green}{c_{2}}=\\color{green}{\\pm c_{1}}\n",
    "\\end{align*}\n",
    "$$"
   ]
  },
  {
   "cell_type": "markdown",
   "id": "8388ec53",
   "metadata": {},
   "source": [
    "Recordando que $w=u'=\\frac{du}{dx}$, e integrando se tiene:"
   ]
  },
  {
   "cell_type": "markdown",
   "id": "27e3d1df",
   "metadata": {},
   "source": [
    "$$\n",
    "\\begin{align*}\n",
    "\\frac{du}{dx}y_{1}^{2}&= c_{2}e^{-\\int P(x)dx}\\\\\n",
    "\\frac{du}{dx} &= \\frac{c_{2}}{y_{1}^{2}}e^{-\\int P(x)dx}\\\\\n",
    "\\int \\frac{du}{dx}dx &= \\int \\frac{c_{2}}{y_{1}^{2}} e^{-\\int P(x)dx} dx\\\\\n",
    "u &= \\int \\frac{c_{2}}{y_{1}^{2}}e^{-\\int P(x)dx} dx+ c_{3}\\\\\n",
    "\\end{align*}\n",
    "$$"
   ]
  },
  {
   "cell_type": "markdown",
   "id": "a780a80f",
   "metadata": {},
   "source": [
    "Por tanto, dado que $y_{2}=uy_{1}$:"
   ]
  },
  {
   "cell_type": "markdown",
   "id": "a704eac9",
   "metadata": {},
   "source": [
    "$$\n",
    "\\begin{align*}\n",
    "\\frac{y_{2}}{y_{1}} &= \\int \\frac{c_{2}}{y_{1}^{2}}e^{-\\int P(x)dx} dx+ c_{3}\\\\\n",
    "y_{2} &= c_{2}y_{1}\\int \\frac{e^{-\\int P(x)dx}}{y_{1}^{2}} dx+ c_{3}\n",
    "\\end{align*}\n",
    "$$"
   ]
  },
  {
   "cell_type": "markdown",
   "id": "ad06a628",
   "metadata": {},
   "source": [
    "Eligiendo $c_{2}=1$ y $c_{3}=0$ se obtiene la solución requerida:"
   ]
  },
  {
   "cell_type": "markdown",
   "id": "bb4cb2e2",
   "metadata": {},
   "source": [
    "$$\n",
    "\\begin{equation}\n",
    "\\begin{aligned}\n",
    "y_{2}(x) &= y_{1}(x)\\int \\frac{e^{-\\int P(x)dx}}{y_{1}^{2}(x)} dx\n",
    "\\end{aligned}\n",
    "\\label{ODE_H_19}\n",
    "\\tag{19}\n",
    "\\end{equation}\n",
    "$$"
   ]
  },
  {
   "cell_type": "markdown",
   "id": "72bde4b2",
   "metadata": {},
   "source": [
    "La ecuación ([19](#mjx-eqn-ODE_H_19)) puede ser empleada para encontrar la segunda solución de la EDO lineal homogénea de coeficientes constantes ([12](#mjx-eqn-ODE_H_12)) en el caso que se obtengan raíces reales e iguales de la ecuación auxiliar ([13](#mjx-eqn-ODE_H_13)). Recordando que se obtuvo la solución  $y_{1}=e^{m_{1}x}$ en el intervalo $-\\infty<x<\\infty$, que:"
   ]
  },
  {
   "cell_type": "markdown",
   "id": "b72f39c3",
   "metadata": {},
   "source": [
    "$$\n",
    "\\begin{align*}\n",
    "m &= \\frac{-b\\pm\\sqrt{b^{2}-4ac}}{2a}\\\\\n",
    "b^{2}-4ac &= 0\\\\\n",
    "m &= m_{1}={m_{2}} -\\frac{b}{2a}\\\\\n",
    "2m_{1} &= -\\frac{b}{a}\n",
    "\\end{align*}\n",
    "$$"
   ]
  },
  {
   "cell_type": "markdown",
   "id": "89a3b2f6",
   "metadata": {},
   "source": [
    " y que observando la ecuación ([12](#mjx-eqn-ODE_H_12)) $P(x)=\\frac{b}{a}= -2m_{1}$, podemos llegar a:"
   ]
  },
  {
   "cell_type": "markdown",
   "id": "3e48ce95",
   "metadata": {},
   "source": [
    "$$\n",
    "\\begin{align*}\n",
    "y_{2} &= e^{m_{1}x}\\int \\frac{e^{-\\int P(x)dx}}{e^{2m_{1}x}} dx\\\\\n",
    "e^{-\\int P(x)dx} &= e^{-\\int -2m_{1}dx}=e^{2m_{1}x}\\\\\n",
    "y_{2} &= e^{m_{1}x}\\int \\frac{e^{2m_{1}x}}{e^{2m_{1}x}} dx\\\\\n",
    "y_{2} &= e^{m_{1}x} \\int dx\\\\\n",
    "y_{2} &= xe^{m_{1}x}\n",
    "\\end{align*}\n",
    "$$"
   ]
  },
  {
   "cell_type": "markdown",
   "id": "39e4c72c",
   "metadata": {},
   "source": [
    "Las soluciones $y_{1}=e^{m_{1}x}$ y $y_{2} = xe^{m_{1}x}$ son linealmente independientes y por tanto forman un conjunto fundamental de soluciones. Esto quiere decir que la solución general de la ecuación ([12](#mjx-eqn-ODE_H_12)) para el caso de raíces reales e iguales de la ecuación auxiliar ([13](#mjx-eqn-ODE_H_13)), en el intervalo $-\\infty<x<\\infty$ es:"
   ]
  },
  {
   "cell_type": "markdown",
   "id": "02d93ea6",
   "metadata": {},
   "source": [
    "$$\n",
    "\\begin{equation}\n",
    "\\begin{aligned}\n",
    "y = c_{1}e^{m_{1}x}+ c_{2}xe^{m_{1}x}\n",
    "\\end{aligned}\n",
    "\\label{ODE_H_20}\n",
    "\\tag{20}\n",
    "\\end{equation}\n",
    "$$"
   ]
  },
  {
   "cell_type": "markdown",
   "id": "164f81b7",
   "metadata": {},
   "source": [
    "Como ejemplo considere resolver la siguiente EDO lineal homogénea de coeficientes constantes:"
   ]
  },
  {
   "cell_type": "markdown",
   "id": "7d22ffc7",
   "metadata": {},
   "source": [
    "$$\n",
    "\\begin{equation}\n",
    "\\begin{aligned}\n",
    "y''-10y'+25y = 0\n",
    "\\end{aligned}\n",
    "\\label{ODE_H_21}\n",
    "\\tag{21}\n",
    "\\end{equation}\n",
    "$$"
   ]
  },
  {
   "cell_type": "markdown",
   "id": "e8416133",
   "metadata": {},
   "source": [
    "Dado que se conoce la forma se las soluciones de una EDO lineal homogénea con coeficientes constantes de segundo orden, es posible plantear que:"
   ]
  },
  {
   "cell_type": "markdown",
   "id": "bf520beb",
   "metadata": {},
   "source": [
    "$$\n",
    "\\begin{align*}\n",
    "y &= e^{mx}\\\\\n",
    "\\frac{dy}{dx} &= me^{mx}\\\\\n",
    "\\frac{d^{2}y}{dx^{2}} &= m^{2}e^{mx}\\\\\n",
    "\\end{align*}\n",
    "$$"
   ]
  },
  {
   "cell_type": "markdown",
   "id": "ea20bfc3",
   "metadata": {},
   "source": [
    "Reemplazando estos resultados en la ecuación ([21](#mjx-eqn-ODE_H_21)) se obtiene la siguiente ecuación auxiliar:"
   ]
  },
  {
   "cell_type": "markdown",
   "id": "6bc9bd72",
   "metadata": {},
   "source": [
    "$$\n",
    "\\begin{align*}\n",
    "m^{2}e^{mx}-10me^{mx}+25e^{mx} &=0\\\\\n",
    "e^{mx}(m^{2}-10m+25) &=0\\\\\n",
    "(m-5)(m-5) &= 0\\\\\n",
    "m_{1}=m_{2}=5\n",
    "\\end{align*}\n",
    "$$"
   ]
  },
  {
   "cell_type": "markdown",
   "id": "339c6a54",
   "metadata": {},
   "source": [
    "Por tanto, la solución general de la ecuación ([21](#mjx-eqn-ODE_H_21)) es:"
   ]
  },
  {
   "cell_type": "markdown",
   "id": "7ebce516",
   "metadata": {},
   "source": [
    "$$\n",
    "\\begin{align*}\n",
    "y = c_{1}e^{5x}+ c_{2}xe^{5x}\n",
    "\\end{align*}\n",
    "$$"
   ]
  },
  {
   "cell_type": "markdown",
   "id": "ec303d92",
   "metadata": {},
   "source": [
    "La gráfica de la solución general se muestra en las Figuras 3 y 4: "
   ]
  },
  {
   "cell_type": "code",
   "execution_count": 7,
   "id": "aa857acb",
   "metadata": {},
   "outputs": [
    {
     "data": {
      "image/png": "[encoded data removed]",
      "text/plain": [
       "<Figure size 720x360 with 2 Axes>"
      ]
     },
     "metadata": {
      "needs_background": "light"
     },
     "output_type": "display_data"
    }
   ],
   "source": [
    "def f(x,c1,c2):\n",
    "    return c1*np.exp(5*x)+x*c2*np.exp(5*x)\n",
    "\n",
    "x1 = np.linspace(1,2,200)\n",
    "x2 = np.linspace(0,2,200)\n",
    "\n",
    "c11 = [-4,-2,0,2,4]\n",
    "c21 = [1]\n",
    "fig, (ax1,ax2) = plt.subplots(1,2,figsize=(10,5))\n",
    "for i in range(len(c11)):\n",
    "    ax1.plot(x1,f(x1,c11[i],c21), label = r'$c_{1}= $'+str(c11[i]))\n",
    "ax1.set_title('Fig.3. Solución general de la EDO 21 con c2=1')\n",
    "ax1.legend()\n",
    "    \n",
    "c21 = [1]\n",
    "c22 = [-4,-2,0,2,4]\n",
    "for j in range(len(c22)):\n",
    "    ax2.plot(x2,f(x2,c21,c22[j]),  label = r'$c_{2}= $'+str(c22[j]))\n",
    "ax2.set_ylim(-200,300)\n",
    "ax2.set_title('Fig.4. Solución general de la EDO 21 con c1=1')\n",
    "ax2.legend()\n",
    "plt.show()"
   ]
  },
  {
   "cell_type": "markdown",
   "id": "9871b26b",
   "metadata": {},
   "source": [
    "<h4><span style=\"color:brown\"><b>c.2 Raíces complejas conjugadas</b></span></h4>"
   ]
  },
  {
   "cell_type": "markdown",
   "id": "7bedfad0",
   "metadata": {},
   "source": [
    "En este caso, el discriminante de la ecuación ([14](#mjx-eqn-ODE_H_14)) $b^{2}-4ac<0$, por lo que se generan dos raíces complejas conjugas de la ecuación auxiliar ([13](#mjx-eqn-ODE_H_13)), a saber $m_{1}=\\alpha + i\\beta$ y $m_{2}=\\alpha - i\\beta$. Aquí $i=\\sqrt{-1}$ es la unidad imaginaria, y se asume que $\\alpha>0$ y $\\beta>0$. Con esto se tienen dos soluciones linealmente independientes $y_{1}=e^{(\\alpha + i\\beta)x}$ y $y_{2}=e^{(\\alpha - i\\beta)x}$, mismas que forman un conjunto fundamental en el intervalo $-\\infty<x<\\infty$ y por lo tanto la solución general de la ecuación ([12](#mjx-eqn-ODE_H_12)) es:"
   ]
  },
  {
   "cell_type": "markdown",
   "id": "da9ae8b3",
   "metadata": {},
   "source": [
    "$$\n",
    "\\begin{equation}\n",
    "\\begin{aligned}\n",
    "y = c_{1}e^{(\\alpha + i\\beta)x}+ c_{2}e^{(\\alpha - i\\beta)x}\n",
    "\\end{aligned}\n",
    "\\label{ODE_H_22}\n",
    "\\tag{22}\n",
    "\\end{equation}\n",
    "$$"
   ]
  },
  {
   "cell_type": "markdown",
   "id": "fc77d044",
   "metadata": {},
   "source": [
    "Para transformar la ecuación ([22](#mjx-eqn-ODE_H_22)) eliminando la unidad imaginaria $i$, es necesario recordar las siguientes ecuaciones:"
   ]
  },
  {
   "cell_type": "markdown",
   "id": "03beb958",
   "metadata": {},
   "source": [
    "La fórmula de Euler:"
   ]
  },
  {
   "cell_type": "markdown",
   "id": "05727792",
   "metadata": {},
   "source": [
    "$$\n",
    "\\begin{equation}\n",
    "\\begin{aligned}\n",
    "e^{\\pm i\\theta}= \\cos{\\theta}\\pm i\\sin{\\theta}\n",
    "\\end{aligned}\n",
    "\\label{ODE_H_23}\n",
    "\\tag{23}\n",
    "\\end{equation}\n",
    "$$"
   ]
  },
  {
   "cell_type": "markdown",
   "id": "edc2c669",
   "metadata": {},
   "source": [
    "y"
   ]
  },
  {
   "cell_type": "markdown",
   "id": "247e15a9",
   "metadata": {},
   "source": [
    "$$\n",
    "\\begin{equation}\n",
    "\\begin{aligned}\n",
    "\\sin{\\theta}=\\frac{e^{i\\theta}-e^{-i\\theta}}{2i}\n",
    "\\end{aligned}\n",
    "\\label{ODE_H_24}\n",
    "\\tag{24}\n",
    "\\end{equation}\n",
    "$$"
   ]
  },
  {
   "cell_type": "markdown",
   "id": "d29c32db",
   "metadata": {},
   "source": [
    "$$\n",
    "\\begin{equation}\n",
    "\\begin{aligned}\n",
    "\\cos{\\theta}=\\frac{e^{i\\theta}+e^{-i\\theta}}{2}\n",
    "\\end{aligned}\n",
    "\\label{ODE_H_25}\n",
    "\\tag{25}\n",
    "\\end{equation}\n",
    "$$"
   ]
  },
  {
   "cell_type": "markdown",
   "id": "c40454c8",
   "metadata": {},
   "source": [
    "En las ecuaciones ([23](#mjx-eqn-ODE_H_23))-([25](#mjx-eqn-ODE_H_25)) $\\theta$ es cualquier número real. "
   ]
  },
  {
   "cell_type": "markdown",
   "id": "387f3c8f",
   "metadata": {},
   "source": [
    "Reorganizando términos en la ecuación ([22](#mjx-eqn-ODE_H_22)) se llega a:"
   ]
  },
  {
   "cell_type": "markdown",
   "id": "c40b50a6",
   "metadata": {},
   "source": [
    "$$\n",
    "\\begin{align*}\n",
    "y = e^{\\alpha x}(c_{1}e^{i\\beta x}+c_{2}e^{-i\\beta x})\n",
    "\\end{align*}\n",
    "$$"
   ]
  },
  {
   "cell_type": "markdown",
   "id": "e764e07e",
   "metadata": {},
   "source": [
    "Dado que un múltiplo constante de las soluciones $y_{1}$ y $y_{2}$ también es una solución de la ecuación diferencial ([12](#mjx-eqn-ODE_H_12)), es decir $y_{1}=c_{1}e^{(\\alpha + i\\beta)x}$ y $y_{2}=c_{2}e^{(\\alpha - i\\beta)x}$, se pueden escoger $c_{1}=c_{2}=1$  con lo cual se obtiene:"
   ]
  },
  {
   "cell_type": "markdown",
   "id": "82d6590f",
   "metadata": {},
   "source": [
    "$$\n",
    "\\begin{align*}\n",
    "y = e^{\\alpha x}(e^{i\\beta x}+e^{-i\\beta x})\n",
    "\\end{align*}\n",
    "$$"
   ]
  },
  {
   "cell_type": "markdown",
   "id": "dafa1830",
   "metadata": {},
   "source": [
    "Haciendo en la ecuación ([25](#mjx-eqn-ODE_H_25)) $\\theta = \\beta x$ y despejando de tal manera que $2\\cos{\\beta x}= e^{i\\beta x}+e^{-i\\beta x}$ se llega a:"
   ]
  },
  {
   "cell_type": "markdown",
   "id": "9e109de2",
   "metadata": {},
   "source": [
    "$$\n",
    "\\begin{align*}\n",
    "y = e^{\\alpha x}(2\\cos{\\beta x})\n",
    "\\end{align*}\n",
    "$$"
   ]
  },
  {
   "cell_type": "markdown",
   "id": "81efdd7e",
   "metadata": {},
   "source": [
    "De manera similar, en la ecuación $y = e^{\\alpha x}(c_{1}e^{i\\beta x}+c_{2}e^{-i\\beta x})$ se pueden escoger otros valores para las constantes, es decir $c_{1}=1$ y $c_{2}=-1$. Con ello:"
   ]
  },
  {
   "cell_type": "markdown",
   "id": "984a8703",
   "metadata": {},
   "source": [
    "$$\n",
    "\\begin{align*}\n",
    "y = e^{\\alpha x}(e^{i\\beta x}-e^{-i\\beta x})\n",
    "\\end{align*}\n",
    "$$"
   ]
  },
  {
   "cell_type": "markdown",
   "id": "92921c91",
   "metadata": {},
   "source": [
    "Haciendo en la ecuación ([24](#mjx-eqn-ODE_H_24)) $\\theta = \\beta x$ y despejando de tal manera que $2i\\sin{\\beta x}= e^{i\\beta x}-e^{-i\\beta x}$ se llega a:"
   ]
  },
  {
   "cell_type": "markdown",
   "id": "f050b614",
   "metadata": {},
   "source": [
    "$$\n",
    "\\begin{align*}\n",
    "y = e^{\\alpha x}(2i\\sin{\\beta x})\n",
    "\\end{align*}\n",
    "$$"
   ]
  },
  {
   "cell_type": "markdown",
   "id": "797495eb",
   "metadata": {},
   "source": [
    "Las soluciones particulares $y_{1}= e^{\\alpha x}(2\\cos{\\beta x})$ y $y_{2} = e^{\\alpha x}(2i\\sin{\\beta x})$ son linealmente independientes por lo cual forman un conjunto fundamental y por tanto la solución general puede estructurarse como:"
   ]
  },
  {
   "cell_type": "markdown",
   "id": "b46159fa",
   "metadata": {},
   "source": [
    "$$\n",
    "\\begin{align*}\n",
    "y = c_{3}e^{\\alpha x}(2\\cos{\\beta x})+c_{4}e^{\\alpha x}(2i\\sin{\\beta x})\n",
    "\\end{align*}\n",
    "$$"
   ]
  },
  {
   "cell_type": "markdown",
   "id": "155d48eb",
   "metadata": {},
   "source": [
    "Haciendo en la ecuación anterior que $c_{1}=2c_{3}$ y que $c_{2}=2ic_{4}$, se llega a:"
   ]
  },
  {
   "cell_type": "markdown",
   "id": "473b0886",
   "metadata": {},
   "source": [
    "$$\n",
    "\\begin{equation}\n",
    "\\begin{aligned}\n",
    "y = e^{\\alpha x}(c_{1}\\cos{\\beta x}+c_{2}\\sin{\\beta x})\n",
    "\\end{aligned}\n",
    "\\label{ODE_H_26}\n",
    "\\tag{26}\n",
    "\\end{equation}\n",
    "$$"
   ]
  },
  {
   "cell_type": "markdown",
   "id": "4c596b0a",
   "metadata": {},
   "source": [
    "Por ejemplo, considere resolver la EDO lineal homogénea de coeficientes constantes:"
   ]
  },
  {
   "cell_type": "markdown",
   "id": "38ed3832",
   "metadata": {},
   "source": [
    "$$\n",
    "\\begin{equation}\n",
    "\\begin{aligned}\n",
    "y''-4y'+5y = 0\n",
    "\\end{aligned}\n",
    "\\label{ODE_H_27}\n",
    "\\tag{27}\n",
    "\\end{equation}\n",
    "$$"
   ]
  },
  {
   "cell_type": "markdown",
   "id": "2a1fb9cd",
   "metadata": {},
   "source": [
    "Como en los casos anteriores, la forma se las soluciones de una EDO lineal homogénea de coeficientes constantes es $y=e^{mx}$, con lo cual $y'=me^{mx}$ y $y''=m^{2}e^{mx}$. Reemplazando estos resultados en la ecuación ([27](#mjx-eqn-ODE_H_27)) se obtiene la ecuación auxiliar:"
   ]
  },
  {
   "cell_type": "markdown",
   "id": "6aedf1cf",
   "metadata": {},
   "source": [
    "$$\n",
    "\\begin{align*}\n",
    "m^{2}e^{mx}-4me^{mx}+5e^{mx} &=0\\\\\n",
    "e^{mx}(m^{2}-4m+5) &=0\\\\\n",
    " (m^{2}-4m+5)&= 0\\\\\n",
    "\\end{align*}\n",
    "$$"
   ]
  },
  {
   "cell_type": "markdown",
   "id": "2124812e",
   "metadata": {},
   "source": [
    "Empleando la fórmula cuadrática (ecuación ([14](#mjx-eqn-ODE_H_14))):"
   ]
  },
  {
   "cell_type": "markdown",
   "id": "4190c92c",
   "metadata": {},
   "source": [
    "$$\n",
    "\\begin{align*}\n",
    "m &= \\frac{-b\\pm\\sqrt{b^{2}-4ac}}{2a}\\\\\n",
    "m &= \\frac{4\\pm\\sqrt{(-4)^{2}-4(1)(5)}}{2(1)}\\\\\n",
    "m &= \\frac{4\\pm\\sqrt{16-20}}{2}\\\\\n",
    "m &= \\frac{4\\pm\\sqrt{-4}}{2}\\\\\n",
    "m &= \\frac{4\\pm 2i}{2}\\\\\n",
    "m &= 2\\pm i\\\\\n",
    "m_{1} &= 2+i,~m_{2} = 2-i\n",
    "\\end{align*}\n",
    "$$"
   ]
  },
  {
   "cell_type": "markdown",
   "id": "f80ddf1d",
   "metadata": {},
   "source": [
    "Comparando con la forma genérica $m=\\alpha \\pm i\\beta $ se puede reconocer que $\\alpha = 2$ y $\\beta = 1$. "
   ]
  },
  {
   "cell_type": "markdown",
   "id": "976e1e56",
   "metadata": {},
   "source": [
    "Reemplazando estos resultados en la ecuación ([26](#mjx-eqn-ODE_H_26)), se llega a la solución general de la ecuación ([27](#mjx-eqn-ODE_H_27)):"
   ]
  },
  {
   "cell_type": "markdown",
   "id": "bf6a08a5",
   "metadata": {},
   "source": [
    "$$\n",
    "\\begin{align*}\n",
    "y = e^{2x}(c_{1}\\cos{x}+c_{2}\\sin{x})\n",
    "\\end{align*}\n",
    "$$"
   ]
  },
  {
   "cell_type": "code",
   "execution_count": 9,
   "id": "883ecbb2",
   "metadata": {},
   "outputs": [
    {
     "data": {
      "image/png": "[encoded data removed]",
      "text/plain": [
       "<Figure size 720x360 with 2 Axes>"
      ]
     },
     "metadata": {
      "needs_background": "light"
     },
     "output_type": "display_data"
    }
   ],
   "source": [
    "def f(x,c1,c2):\n",
    "    return np.exp(2*x)*(c1*np.cos(x)+c2*np.sin(x))\n",
    "x1 = np.linspace(2,5,200)\n",
    "x2 = np.linspace(0,5,200)\n",
    "\n",
    "c11 = [-4,-2,0,2,4]\n",
    "c21 = [-2]\n",
    "fig, (ax1,ax2) = plt.subplots(1,2,figsize=(10,5))\n",
    "for i in range(len(c11)):\n",
    "    ax1.plot(x1,f(x1,c11[i],c21), label = r'$c_{1}= $'+str(c11[i]))\n",
    "ax1.set_title('Fig.5. Solución general de la EDO 27 con c2=-2')\n",
    "ax1.legend()\n",
    "    \n",
    "c21 = [0.5]\n",
    "c22 = [-4,-2,0,2,4]\n",
    "for j in range(len(c22)):\n",
    "    ax2.plot(x2,f(x2,c21,c22[j]), label = r'$c_{2}= $'+str(c22[j]))\n",
    "ax2.set_ylim(-1000,1000)\n",
    "ax2.set_title('Fig.6. Solución general de la EDO 27 con c1=1/2')\n",
    "ax2.legend()\n",
    "plt.show()"
   ]
  },
  {
   "cell_type": "markdown",
   "id": "1782998c",
   "metadata": {},
   "source": [
    "<h4><span style=\"color:brown\"><b>c.4 Resumen: soluciones de una EDO lineal homogénea de coeficientes constantes de segundo orden</b></span></h4>"
   ]
  },
  {
   "cell_type": "markdown",
   "id": "6d733774",
   "metadata": {},
   "source": [
    "Dada una EDO lineal homogénea de segundo orden (ecuación ([12](#mjx-eqn-ODE_H_12))) y su respectiva ecuación auxiliar ([13](#mjx-eqn-ODE_H_13)), se tienen las siguientes soluciones generales:"
   ]
  },
  {
   "cell_type": "markdown",
   "id": "d8602fb1",
   "metadata": {},
   "source": [
    " <table>\n",
    "  <tr>\n",
    "    <th>Raíces de la ecuación auxiliar</th>\n",
    "    <th>Solución general</th>\n",
    "  </tr>\n",
    "  <tr>\n",
    "    <td>Reales y distintas</td>\n",
    "    <td>$$y = c_{1}e^{m_{1}x}+c_{2}e^{m_{2}x}$$</td>\n",
    "  </tr>\n",
    "  <tr>\n",
    "    <td>Reales e iguales</td>\n",
    "    <td>$$y = c_{1}e^{m_{1}x}+ c_{2}xe^{m_{1}x}$$</td>\n",
    "  </tr>\n",
    "    <tr>\n",
    "    <td>Complejas conjugadas</td>\n",
    "    <td>$$y = e^{\\alpha x}(c_{1}\\cos{\\beta x}+c_{2}\\sin{\\beta x})$$</td>\n",
    "  </tr>\n",
    "</table> "
   ]
  },
  {
   "cell_type": "markdown",
   "id": "f0e5a198",
   "metadata": {},
   "source": [
    "<h2><span style=\"color:blue\" >3.1.9 Ecuaciones diferenciales lineales homogéneas con coeficientes constantes de orden superior<span></h2>"
   ]
  },
  {
   "cell_type": "markdown",
   "id": "1938d796",
   "metadata": {},
   "source": [
    "<h3><span style=\"color:green\"><b>a. Raíces reales y distintas</b></span></h3>"
   ]
  },
  {
   "cell_type": "markdown",
   "id": "272825bd",
   "metadata": {},
   "source": [
    "Para el caso de ecuaciones diferenciales de orden superior, es posible obtener una ecuación auxiliar de $n$-ésimo grado de la forma:"
   ]
  },
  {
   "cell_type": "markdown",
   "id": "ab457c9c",
   "metadata": {},
   "source": [
    "$$\n",
    "\\begin{equation}\n",
    "\\begin{aligned}\n",
    "a_{n}m^{n}+a_{n-1}m^{n-1}+...+a_{2}m^{2}+a_{1}m+a_{0}=0\n",
    "\\end{aligned}\n",
    "\\label{ODE_H_28}\n",
    "\\tag{28}\n",
    "\\end{equation}\n",
    "$$"
   ]
  },
  {
   "cell_type": "markdown",
   "id": "9991b54e",
   "metadata": {},
   "source": [
    "Si todas las raíces de la ecuación ([28](#mjx-eqn-ODE_H_28)) son raíces reales y distintas, entonces la solución general de la ecuación ([1](#mjx-eqn-ODE_H_1)) es:"
   ]
  },
  {
   "cell_type": "markdown",
   "id": "b54ab5fb",
   "metadata": {},
   "source": [
    "$$\n",
    "\\begin{equation}\n",
    "\\begin{aligned}\n",
    "y = c_{1}e^{m_{1}x}+c_{2}e^{m_{2}x}+...+c_{n}e^{m_{n}x}\n",
    "\\end{aligned}\n",
    "\\label{ODE_H_29}\n",
    "\\tag{29}\n",
    "\\end{equation}\n",
    "$$"
   ]
  },
  {
   "cell_type": "markdown",
   "id": "929e7032",
   "metadata": {},
   "source": [
    "Por ejemplo, considere la siguiente EDO lineal homogénea con coeficientes constantes de orden superior:"
   ]
  },
  {
   "cell_type": "markdown",
   "id": "0cb7fca3",
   "metadata": {},
   "source": [
    "$$\n",
    "\\begin{equation}\n",
    "\\begin{aligned}\n",
    "y'''+3y''-4y'-12y=0\n",
    "\\end{aligned}\n",
    "\\label{ODE_H_30}\n",
    "\\tag{30}\n",
    "\\end{equation}\n",
    "$$"
   ]
  },
  {
   "cell_type": "markdown",
   "id": "084c15f4",
   "metadata": {},
   "source": [
    "Como en los ejemplos anteriores, la forma se las soluciones de una EDO lineal homogénea de coeficientes constantes es $y=e^{mx}$, con lo cual $y'=me^{mx}$, $y''=m^{2}e^{mx}$ y $y'''=m^{3}e^{mx}$ . Reemplazando estos resultados en la ecuación ([30](#mjx-eqn-ODE_H_30)) se obtiene la ecuación auxiliar:"
   ]
  },
  {
   "cell_type": "markdown",
   "id": "705d909f",
   "metadata": {},
   "source": [
    "$$\n",
    "\\begin{align*}\n",
    "m^{3}e^{mx}+3m^{2}e^{mx}-4me^{mx}-12e^{mx} &=0\\\\\n",
    "e^{mx}(m^{3}+3m^{2}-4m-12) &=0\\\\\n",
    " (m^{3}+3m^{2}-4m-12)&= 0\\\\\n",
    " (m+3)(m^{2}-4)&= 0\\\\\n",
    " (m+3)(m-2)(m+2)&= 0\\\\\n",
    " m_{1}=-3,~m_{2}=2,~m_{3}=-2\n",
    "\\end{align*}\n",
    "$$"
   ]
  },
  {
   "cell_type": "markdown",
   "id": "789e3195",
   "metadata": {},
   "source": [
    "Con esto, la forma de la solución general de la ecuación ([30](#mjx-eqn-ODE_H_30)) viene dado por la ecuación ([29](#mjx-eqn-ODE_H_29)):"
   ]
  },
  {
   "cell_type": "markdown",
   "id": "ceb2c733",
   "metadata": {},
   "source": [
    "$$\n",
    "\\begin{align*}\n",
    "y = c_{1}e^{-3x}+c_{2}e^{2x}+c_{3}e^{-2x}\n",
    "\\end{align*}\n",
    "$$"
   ]
  },
  {
   "cell_type": "markdown",
   "id": "275725cb",
   "metadata": {},
   "source": [
    "<h3><span style=\"color:green\"><b>b. Casos combinados</b></span></h3>"
   ]
  },
  {
   "cell_type": "markdown",
   "id": "39646a9c",
   "metadata": {},
   "source": [
    "Cuando las raíces de la ecuación auxiliar ([28](#mjx-eqn-ODE_H_28)) no son reales y distintas, pueden ocurrir muchas combinaciones entre las raíces. Generalmente, ecuaciones auxiliares de grado elevado presentan <b>multiplicidad de ráices</b>. "
   ]
  },
  {
   "cell_type": "markdown",
   "id": "ee8c682f",
   "metadata": {},
   "source": [
    "Por ejemplo, suponga que mediante un proceso algebraico se encuentran las siguientes raíces de una ecuación auxiliar de tercer grado: $m_{1}=5$,$m_{2}=2$,$m_{3}=2$. En este caso se dice que $m=2$ es una raíz de multiplicad dos puesto que se repite dos veces. "
   ]
  },
  {
   "cell_type": "markdown",
   "id": "ad5f74ff",
   "metadata": {},
   "source": [
    "En general, cuando $m_{1}$ es una raíz de multiplicidad $k$ de una ecuación auxiliar de $n$-ésimo grado (es decir k raíces son iguales a $m_{1}$) es posible construir las siguientes soluciones linealmente indpeendientes:"
   ]
  },
  {
   "cell_type": "markdown",
   "id": "fb891d3b",
   "metadata": {},
   "source": [
    "$$\n",
    "\\begin{align*}\n",
    "e^{m_{1}x},~xe^{m_{1}x},~x^{2}e^{m_{1}x},...,x^{k-1}e^{m_{1}x}\n",
    "\\end{align*}\n",
    "$$"
   ]
  },
  {
   "cell_type": "markdown",
   "id": "c4b2f811",
   "metadata": {},
   "source": [
    "y la solución general debe contener la combinación:"
   ]
  },
  {
   "cell_type": "markdown",
   "id": "4e144cda",
   "metadata": {},
   "source": [
    "$$\n",
    "\\begin{align*}\n",
    "c_{1}e^{m_{1}x}+c_{2}xe^{m_{1}x}+c_{3}x^{2}e^{m_{1}x}+...+c_{k}x^{k-1}e^{m_{1}x}\n",
    "\\end{align*}\n",
    "$$"
   ]
  },
  {
   "cell_type": "markdown",
   "id": "34020d85",
   "metadata": {},
   "source": [
    "Por ejemplo, considere la siguiente EDO lineal homogénea de coeficientes constantes de cuarto orden: "
   ]
  },
  {
   "cell_type": "markdown",
   "id": "d62e6dad",
   "metadata": {},
   "source": [
    "$$\n",
    "\\begin{equation}\n",
    "\\begin{aligned}\n",
    "y^{(4)}+2y'''+y''=0\n",
    "\\end{aligned}\n",
    "\\label{ODE_H_31}\n",
    "\\tag{31}\n",
    "\\end{equation}\n",
    "$$"
   ]
  },
  {
   "cell_type": "markdown",
   "id": "9d04b483",
   "metadata": {},
   "source": [
    "Como en los ejemplos anteriores, la forma se las soluciones de una EDO lineal homogénea de coeficientes constantes es $y=e^{mx}$, con lo cual $y''=m^{2}e^{mx}$, $y'''=m^{3}e^{mx}$ y $y^{(4)}=m^{4}e^{mx}$. Reemplazando estos resultados en la ecuación ([31](#mjx-eqn-ODE_H_31)) se obtiene la ecuación auxiliar:"
   ]
  },
  {
   "cell_type": "markdown",
   "id": "8f197b07",
   "metadata": {},
   "source": [
    "$$\n",
    "\\begin{align*}\n",
    "m^{4}e^{mx}+2m^{3}e^{mx}+m^{2}e^{mx} &=0\\\\\n",
    "e^{mx}(m^{4}+2m^{3}+m^{2}) &=0\\\\\n",
    " (m^{4}+2m^{3}+m^{2})&= 0\\\\\n",
    " m(m^{3}+2m^{2}+m)&= 0\\\\\n",
    "(m)(m)(m^{2}+2m+1)&= 0\\\\\n",
    " (m)(m)(m+1)(m+1)&= 0\\\\\n",
    " m_{1}=0,~m_{2}=0,~m_{3}=-1,~m_{4}=-1\n",
    "\\end{align*}\n",
    "$$"
   ]
  },
  {
   "cell_type": "markdown",
   "id": "a0ac7a04",
   "metadata": {},
   "source": [
    "Por tanto, la raíz $m_{1}=0$ tiene una multiplicidad de $2$, y $m_{3}=-1$ también tiene una multiplicidad de $2$. Con esto, la solución general de la ecuación ([31](#mjx-eqn-ODE_H_31)) puede construirse de la siguiente manera:"
   ]
  },
  {
   "cell_type": "markdown",
   "id": "fb39858e",
   "metadata": {},
   "source": [
    "$$\n",
    "\\begin{align*}\n",
    "y &= c_{1}e^{m_{1}x}+c_{2}xe^{m_{1}x}+c_{3}e^{m_{3}x}+c_{4}xe^{m_{3}x}\\\\\n",
    "y &= c_{1}e^{0x}+c_{2}xe^{0x}+c_{3}e^{-x}+c_{4}xe^{-x}\\\\\n",
    "y &= c_{1}+c_{2}x+c_{3}e^{-x}+c_{4}xe^{-x}\\\\\n",
    "\\end{align*}\n",
    "$$"
   ]
  },
  {
   "cell_type": "markdown",
   "id": "1f55e42b",
   "metadata": {},
   "source": [
    "También para una ecuación auxiliar de $n$-ésimo grado pueden presentarse raíces repetidas complejas. Estas siempre se van a presentar en <b>pares conjugados</b>. En general, si $m_{1}= \\alpha + i\\beta$, con $\\beta>0$, es una raíz compleja de multiplicidad $k$, entonces su conjugada $m_{2}= \\alpha - i\\beta$ también en una raíz de multiplicidad $k$. De las $2k$ soluciones con valores complejos:"
   ]
  },
  {
   "cell_type": "markdown",
   "id": "f7a0aec0",
   "metadata": {},
   "source": [
    "$$\n",
    "\\begin{align*}\n",
    "e^{(\\alpha + i\\beta)x},~xe^{(\\alpha + i\\beta)x},~x^{2}e^{(\\alpha + i\\beta)x},...,x^{k-1}e^{(\\alpha + i\\beta)x}\\\\\n",
    "e^{(\\alpha - i\\beta)x},~xe^{(\\alpha - i\\beta)x},~x^{2}e^{(\\alpha - i\\beta)x},...,x^{k-1}e^{(\\alpha - i\\beta)x}\n",
    "\\end{align*}\n",
    "$$"
   ]
  },
  {
   "cell_type": "markdown",
   "id": "72f78188",
   "metadata": {},
   "source": [
    "y mediante el empleo de la fórmula de Euler (([23](#mjx-eqn-ODE_H_23))), se logra concluir que la solución general debe contener una combinación lineal de las $2k$ soluciones reales linealmente independientes:"
   ]
  },
  {
   "cell_type": "markdown",
   "id": "03b8a2d6",
   "metadata": {},
   "source": [
    "$$\n",
    "\\begin{align*}\n",
    "e^{\\alpha x}\\cos{\\beta x},~xe^{\\alpha x}\\cos{\\beta x},~x^{2}e^{\\alpha x}\\cos{\\beta x},...,x^{k-1}e^{\\alpha x}\\cos{\\beta x}\\\\\n",
    "e^{\\alpha x}\\sin{\\beta x},~xe^{\\alpha x}\\sin{\\beta x},~x^{2}e^{\\alpha x}\\sin{\\beta x},...,x^{k-1}e^{\\alpha x}\\sin{\\beta x}\n",
    "\\end{align*}\n",
    "$$"
   ]
  },
  {
   "cell_type": "markdown",
   "id": "b58b4fd7",
   "metadata": {},
   "source": [
    "Por ejemplo, resuelva la siguiente EDO lineal homogénea de coeficientes constantes de quinto orden:"
   ]
  },
  {
   "cell_type": "markdown",
   "id": "cae794eb",
   "metadata": {},
   "source": [
    "$$\n",
    "\\begin{equation}\n",
    "\\begin{aligned}\n",
    "2\\frac{d^{5}x}{ds^{5}}-7\\frac{d^{4}x}{ds^{4}}+12\\frac{d^{3}x}{ds^{3}}+8\\frac{d^{2}x}{ds^{2}}=0\n",
    "\\end{aligned}\n",
    "\\label{ODE_H_32}\n",
    "\\tag{32}\n",
    "\\end{equation}\n",
    "$$"
   ]
  },
  {
   "cell_type": "markdown",
   "id": "644093dd",
   "metadata": {},
   "source": [
    "Dado que $x$ es la variable dependiente en este caso, se plantea una solución de la forma $x=e^{ms}$. Con esto se obtienen las siguientes derivadas: $x''=m^{2}e^{ms}$, $x'''=m^{3}e^{ms}$, $x^{(IV)}=m^{4}e^{ms}$ y $x^{(V)}=m^{5}e^{ms}$. Reemplazando estos resultados en la ecuación ([32](#mjx-eqn-ODE_H_32)) se llega a:"
   ]
  },
  {
   "cell_type": "markdown",
   "id": "34107c62",
   "metadata": {},
   "source": [
    "$$\n",
    "\\begin{align*}\n",
    "2m^{5}e^{ms}-7m^{4}e^{ms}+12m^{3}e^{ms}+8m^{2}e^{ms} &=0\\\\\n",
    "e^{mx}(2m^{5}-7m^{4}+12m^{3}+8m^{2}) &=0\\\\\n",
    " (2m^{5}-7m^{4}+12m^{3}+8m^{2})&= 0\\\\\n",
    " m(2m^{4}-7m^{3}+12m^{2}+8m)&= 0\\\\\n",
    "(m)(m)(2m^{3}-7m^{2}+12m+8)&= 0\\\\\n",
    " (m)(m)(2m+1)(m^{2}-4m+8)&= 0\\\\\n",
    " m_{1}=0,~m_{2}=0,~m_{3}=-\\frac{1}{2}\n",
    "\\end{align*}\n",
    "$$"
   ]
  },
  {
   "cell_type": "markdown",
   "id": "39d39aa9",
   "metadata": {},
   "source": [
    "Para obtener las dos últimas raíces, se tiene que resolver la ecuación $m^{2}-4m+8=0$. Aplicando la fórmula general cuadrática (ecuación ([14](#mjx-eqn-ODE_H_14))):"
   ]
  },
  {
   "cell_type": "markdown",
   "id": "667186f5",
   "metadata": {},
   "source": [
    "$$\n",
    "\\begin{align*}\n",
    "m &= \\frac{-b\\pm\\sqrt{b^{2}-4ac}}{2a}\\\\\n",
    "m &= \\frac{4\\pm\\sqrt{(-4)^{2}-4(1)(8)}}{2(1)}\\\\\n",
    "m &= \\frac{4\\pm\\sqrt{16-32}}{2}\\\\\n",
    "m &= \\frac{4\\pm\\sqrt{-16}}{2}\\\\\n",
    "m &= \\frac{4\\pm 4i}{2}\\\\\n",
    "m &= 2\\pm 2i\\\\\n",
    "m_{4} &= 2+2i,~m_{5} = 2-2i\n",
    "\\end{align*}\n",
    "$$"
   ]
  },
  {
   "cell_type": "markdown",
   "id": "6ad51047",
   "metadata": {},
   "source": [
    "De las $5$ raíces de la ecuación auxiliar, se puede ver que $m_{1}=m_{2}$ y que $m_{4}$ y $m_{5}$ son complejas conjugadas, con $\\alpha = 2$ y $\\beta = 2$. Por tanto, se propone la siguiente forma de solución general:"
   ]
  },
  {
   "cell_type": "markdown",
   "id": "f49023a2",
   "metadata": {},
   "source": [
    "$$\n",
    "\\begin{align*}\n",
    "y &= c_{1}e^{m_{1}x}+c_{2}xe^{m_{1}x}+c_{3}e^{m_{3}x}+e^{\\alpha x}(c_{4}\\cos{\\beta x}+c_{5}\\sin{\\beta x})\\\\\n",
    "y &= c_{1}e^{0x}+c_{2}xe^{0x}+c_{3}e^{-\\frac{1}{2}x}+e^{2x}(c_{4}\\cos{2x}+c_{5}\\sin{2x})\\\\\n",
    "y &= c_{1}+c_{2}x+c_{3}e^{-\\frac{1}{2}x}+c_{4}e^{2x}\\cos{2x}+c_{5}e^{2x}\\sin{2x}\n",
    "\\end{align*}\n",
    "$$"
   ]
  },
  {
   "cell_type": "markdown",
   "id": "3a049601",
   "metadata": {},
   "source": [
    "<h2><span style=\"color:blue\" >3.1.10 Problemas de valor inicial (PVI)<span></h2>"
   ]
  },
  {
   "cell_type": "markdown",
   "id": "3eac2e7d",
   "metadata": {},
   "source": [
    "<h3><span style=\"color:green\"><b>a. Definición</b></span></h3>"
   ]
  },
  {
   "cell_type": "markdown",
   "id": "f46d91d6",
   "metadata": {},
   "source": [
    "Un problema con valores iniciales para una ecuación diferencial de $n$-ésimo orden lineal, tanto homogénea como no homogénea puede plantearse de la siguiente manera:"
   ]
  },
  {
   "cell_type": "markdown",
   "id": "2f1853e1",
   "metadata": {},
   "source": [
    "$$\n",
    "\\begin{equation}\n",
    "\\begin{aligned}\n",
    "Resolver:~a_{n}(x)\\frac{d^{n}y}{dx^{n}}+a_{n-1}(x)\\frac{d^{n-1}y}{dx^{n-1}}+...+a_{1}(x)\\frac{dy}{dx}+a_{0}(x)y = g(x)\\\\\n",
    "Sujeto~a:~y(x_{0})=y_{0}, ~y'(x_{0})=y_{1},...,y^{(n-1)}(x_{0})=y_{n-1}\n",
    "\\end{aligned}\n",
    "\\label{ODE_H_33}\n",
    "\\tag{33}\n",
    "\\end{equation}\n",
    "$$"
   ]
  },
  {
   "cell_type": "markdown",
   "id": "e832f632",
   "metadata": {},
   "source": [
    "Para este problema se busca una solución para la ecuación diferencial lineal (homogénea ó no homogénea) sobre algún intervalo $I$ que contiene a $x_{0}$, que satisface la ecuación diferencial y las $n$ condiciones iniciales que se especifican: $y(x_{0})=y_{0}, ~y'(x_{0})=y_{1},...,y^{(n-1)}(x_{0})=y_{n-1}$."
   ]
  },
  {
   "cell_type": "markdown",
   "id": "a34e643f",
   "metadata": {},
   "source": [
    "En el caso de una ecuación diferencial lineal (homogénea ó no homogénea), el problema de valor inicial se plantea de la siguiente manera:"
   ]
  },
  {
   "cell_type": "markdown",
   "id": "0bd3c6bd",
   "metadata": {},
   "source": [
    "$$\n",
    "\\begin{equation}\n",
    "\\begin{aligned}\n",
    "Resolver:~a_{2}(x)\\frac{d^{2}y}{dx^{2}}+a_{1}(x)\\frac{dy}{dx}+a_{0}(x)y = g(x)\\\\\n",
    "Sujeto~a:~y(x_{0})=y_{0}, ~y'(x_{0})=y_{1}\n",
    "\\end{aligned}\n",
    "\\label{ODE_H_34}\n",
    "\\tag{34}\n",
    "\\end{equation}\n",
    "$$"
   ]
  },
  {
   "cell_type": "markdown",
   "id": "e8a03847",
   "metadata": {},
   "source": [
    "Matemáticamente esto quiere decir que ahora no solo se necesita un punto sino también la pendiente de la recta tangente a la curva solución del problema de valor inicial en ese punto."
   ]
  },
  {
   "cell_type": "markdown",
   "id": "0be9d2dc",
   "metadata": {},
   "source": [
    "<h3><span style=\"color:green\"><b>b. Existencia y unicidad de las soluciones de un PVI</b></span></h3>"
   ]
  },
  {
   "cell_type": "markdown",
   "id": "1ee3047c",
   "metadata": {},
   "source": [
    "Sean $a_{n}(x),a_{n-1}(x),...,a_{2}(x),a_{1}(x),a_{0}(x)$ y $g(x)$ continuas sobre un intervalo $I$, y sea $a_{n}(x)\\neq 0$ para toda $x$ en ese intervalo. Si $x=x_{0}$ en cualquier punto en este intervalo, entonces una solución $y(x)$ del PVI existe sobre ese intervalo y es única. "
   ]
  },
  {
   "cell_type": "markdown",
   "id": "c40b235e",
   "metadata": {},
   "source": [
    "<h3><span style=\"color:green\"><b>c. Un ejemplo de un PVI para EDO lineal homogénea con coeficientes constantes</b></span></h3>"
   ]
  },
  {
   "cell_type": "markdown",
   "id": "b9e5fb40",
   "metadata": {},
   "source": [
    "Resolver la ecuación diferencial lineal homogénea con coeficientes constantes de tercer orden:"
   ]
  },
  {
   "cell_type": "markdown",
   "id": "b6029d98",
   "metadata": {},
   "source": [
    "$$\n",
    "\\begin{equation}\n",
    "\\begin{aligned}\n",
    "y'''+2y''-5y'-6y=0\n",
    "\\end{aligned}\n",
    "\\label{ODE_H_35}\n",
    "\\tag{35}\n",
    "\\end{equation}\n",
    "$$"
   ]
  },
  {
   "cell_type": "markdown",
   "id": "f17b0ce2",
   "metadata": {},
   "source": [
    "Sujeta a: $y(0)=y'(0)=0$, $y''(0)=1$."
   ]
  },
  {
   "cell_type": "markdown",
   "id": "c6093518",
   "metadata": {},
   "source": [
    "En primer lugar se propone una forma de solución para la ecuación ([35](#mjx-eqn-ODE_H_35)), es decir, $y=e^{mx}$. Con esto se calcula las siguientes derivadas: $y'=me^{mx}$, $y''=m^{2}e^{mx}$, $y'''=m^{3}e^{mx}$. Reemplazando esto en la ecuación ([35](#mjx-eqn-ODE_H_35)) se llega a obtener la siguiente ecuación auxiliar:"
   ]
  },
  {
   "cell_type": "markdown",
   "id": "91060d52",
   "metadata": {},
   "source": [
    "$$\n",
    "\\begin{align*}\n",
    "m^{3}e^{mx}+2m^{2}e^{mx}-5me^{mx}-6e^{mx} &=0\\\\\n",
    "e^{mx}(m^{3}+2m^{2}-5m-6) &=0\\\\\n",
    " m^{3}+2m^{2}-5m-6 &= 0\\\\\n",
    " (m+1)(m-2)(m+3) &= 0\\\\\n",
    " m_{1}=-1,~m_{2}=2,~m_{3}=-3\n",
    "\\end{align*}\n",
    "$$"
   ]
  },
  {
   "cell_type": "markdown",
   "id": "3fda1ad2",
   "metadata": {},
   "source": [
    "Como se observa, se obtuvieron $3$ raíces reales y distintas de la ecuación auxiliar, por lo que la solución general de la ecuación ([35](#mjx-eqn-ODE_H_35)) puede plantearse de la siguiente manera:"
   ]
  },
  {
   "cell_type": "markdown",
   "id": "a2ed89c1",
   "metadata": {},
   "source": [
    "$$\n",
    "\\begin{align*}\n",
    "y &= c_{1}e^{m_{1}x}+c_{2}e^{m_{2}x}+c_{3}e^{m_{3}x}\\\\\n",
    "y &= c_{1}e^{-x}+c_{2}e^{2x}+c_{3}e^{-3x}\\\\\n",
    "\\end{align*}\n",
    "$$"
   ]
  },
  {
   "cell_type": "markdown",
   "id": "1ce37614",
   "metadata": {},
   "source": [
    "Ahora, para determinar las constantes se necesitan la primera y segunda derivadas de la solución general:"
   ]
  },
  {
   "cell_type": "markdown",
   "id": "3b6af6ff",
   "metadata": {},
   "source": [
    "$$\n",
    "\\begin{align*}\n",
    "y &= c_{1}e^{-x}+c_{2}e^{2x}+c_{3}e^{-3x}\\\\\n",
    "y' &= -c_{1}e^{-x}+2c_{2}e^{2x}-3c_{3}e^{-3x}\\\\\n",
    "y'' &= c_{1}e^{-x}+ 4c_{2}e^{2x}+9c_{3}e^{-3x}\\\\\n",
    "\\end{align*}\n",
    "$$"
   ]
  },
  {
   "cell_type": "markdown",
   "id": "78f42259",
   "metadata": {},
   "source": [
    "Luego, se reemplazan las condiciones inciales:"
   ]
  },
  {
   "cell_type": "markdown",
   "id": "a34b209b",
   "metadata": {},
   "source": [
    "$$\n",
    "\\begin{align*}\n",
    "0 &= c_{1}e^{-0}+c_{2}e^{2(0)}+c_{3}e^{-3(0)}\\\\\n",
    "0 &= -c_{1}e^{-0}+2c_{2}e^{2(0)}-3c_{3}e^{-3(0)}\\\\\n",
    "1 &= c_{1}e^{-(0)}+ 4c_{2}e^{2(0)}+9c_{3}e^{-3(0)}\\\\\n",
    "\\end{align*}\n",
    "$$"
   ]
  },
  {
   "cell_type": "markdown",
   "id": "a2c64923",
   "metadata": {},
   "source": [
    "Realizando operaciones, se obtiene:"
   ]
  },
  {
   "cell_type": "markdown",
   "id": "821e0c0c",
   "metadata": {},
   "source": [
    "$$\n",
    "\\begin{align*}\n",
    "0 &= c_{1}+c_{2}+c_{3}\\\\\n",
    "0 &= -c_{1}+2c_{2}-3c_{3}\\\\\n",
    "1 &= c_{1}+ 4c_{2}+9c_{3}\\\\\n",
    "\\end{align*}\n",
    "$$"
   ]
  },
  {
   "cell_type": "markdown",
   "id": "05b9fdc2",
   "metadata": {},
   "source": [
    "Se ha formado un sistema de 3 ecuaciones con 3 incógnitas. Resolviendo el sistema se obtienen los siguientes valores: $c_{1}=-\\frac{1}{6}$, $c_{2}=\\frac{1}{15}$ y $c_{3}= \\frac{1}{10}$. Por tanto, la solución particular es:"
   ]
  },
  {
   "cell_type": "markdown",
   "id": "8aa81905",
   "metadata": {},
   "source": [
    "$$\n",
    "\\begin{align*}\n",
    "y &= -\\frac{1}{6}e^{-x}+\\frac{1}{15}e^{2x}+\\frac{1}{10}e^{-3x}\\\\\n",
    "\\end{align*}\n",
    "$$"
   ]
  },
  {
   "cell_type": "code",
   "execution_count": 14,
   "id": "407d12dc",
   "metadata": {},
   "outputs": [
    {
     "data": {
      "image/png": "[encoded data removed]",
      "text/plain": [
       "<Figure size 432x288 with 1 Axes>"
      ]
     },
     "metadata": {
      "needs_background": "light"
     },
     "output_type": "display_data"
    }
   ],
   "source": [
    "def f(x):\n",
    "    return (-1/6)*np.exp(-x)+(1/15)*np.exp(2*x)+(1/10)*np.exp(-3*x)\n",
    "x = np.linspace(2,5,200)\n",
    "plt.plot(x1,f(x))\n",
    "plt.title('Fig.7. Solución particular de la EDO 35')\n",
    "#plt.legend()\n",
    "plt.show()"
   ]
  },
  {
   "cell_type": "markdown",
   "id": "dce1cec1",
   "metadata": {},
   "source": [
    "<h2><span style=\"color:blue\" >3.1.11 Problemas con valores en la frontera (PVF)<span></h2>"
   ]
  },
  {
   "cell_type": "markdown",
   "id": "7714aa8e",
   "metadata": {},
   "source": [
    "<h3><span style=\"color:green\"><b>a. Definición</b></span></h3>"
   ]
  },
  {
   "cell_type": "markdown",
   "id": "2584af44",
   "metadata": {},
   "source": [
    "Para una ecuación lineal de segundo orden (homogénea o no), un problema con valores en la frontera puede especificarse de la siguiente manera:"
   ]
  },
  {
   "cell_type": "markdown",
   "id": "c00d73de",
   "metadata": {},
   "source": [
    "$$\n",
    "\\begin{equation}\n",
    "\\begin{aligned}\n",
    "Resolver:~a_{2}(x)\\frac{d^{2}y}{dx^{2}}+a_{1}(x)\\frac{dy}{dx}+a_{0}(x)y = g(x)\\\\\n",
    "Sujeto~a:~y(a)=y_{0}, ~y(b)=y_{1}\n",
    "\\end{aligned}\n",
    "\\label{ODE_H_36}\n",
    "\\tag{36}\n",
    "\\end{equation}\n",
    "$$"
   ]
  },
  {
   "cell_type": "markdown",
   "id": "56da1c2b",
   "metadata": {},
   "source": [
    "Los valores preescritos $y(a)=y_{0}$ y $y(b)=y_{1}$ se denominan <b>condiciones en la frontera</b>, y $y_{0}$ y $y_{1}$ son constantes arbitrarias. Una solución del problema anterior es una función que satisface la ecuación diferencial sobre algún intervalo $I$ que contiene a $x=a$ y $x=b$, y cuya <b>gráfica pasa por los puntos $(a,y_{0})$ y $(b,y_{1})$</b>."
   ]
  },
  {
   "cell_type": "markdown",
   "id": "c83b2552",
   "metadata": {},
   "source": [
    "<h3><span style=\"color:green\"><b>b. Tipos de condiciones de frontera</b></span></h3>"
   ]
  },
  {
   "cell_type": "markdown",
   "id": "805a53f4",
   "metadata": {},
   "source": [
    "Para una ecuación diferencial de segundo orden otros pares de condiciones de frontera podrían ser:"
   ]
  },
  {
   "cell_type": "markdown",
   "id": "4ec473ed",
   "metadata": {},
   "source": [
    "$$\n",
    "\\begin{align*}\n",
    "y'(a) &=y_{0}, ~y(b)=y_{1}\\\\\n",
    "y(a) &=y_{0}, ~y'(b)=y_{1}\\\\\n",
    "y'(a) &=y_{0}, ~y'(b)=y_{1}\\\\\n",
    "\\end{align*}\n",
    "$$"
   ]
  },
  {
   "cell_type": "markdown",
   "id": "e07011ff",
   "metadata": {},
   "source": [
    "En general, las condiciones de frontera podrían especificarse de la siguiente manera:"
   ]
  },
  {
   "cell_type": "markdown",
   "id": "2b267eed",
   "metadata": {},
   "source": [
    "$$\n",
    "\\begin{align*}\n",
    "\\alpha_{1}y(a)+\\beta_{1}y'(a) &=\\gamma_{1}\\\\\n",
    "\\alpha_{2}y(b)+\\beta_{2}y'(b) &=\\gamma_{2}\\\\\n",
    "\\end{align*}\n",
    "$$"
   ]
  },
  {
   "cell_type": "markdown",
   "id": "8323258a",
   "metadata": {},
   "source": [
    "<h3><span style=\"color:green\"><b>c. Un ejemplo de PVF para una EDO lineal homogénea con coeficinentes constantes </b></span></h3>"
   ]
  },
  {
   "cell_type": "markdown",
   "id": "e7ead5db",
   "metadata": {},
   "source": [
    "Resolver la siguiente ecuación diferencial lineal homogénea con coeficientes constantes:"
   ]
  },
  {
   "cell_type": "markdown",
   "id": "a664263e",
   "metadata": {},
   "source": [
    "$$\n",
    "\\begin{equation}\n",
    "\\begin{aligned}\n",
    "y''-2y'+2y=0\n",
    "\\end{aligned}\n",
    "\\label{ODE_H_37}\n",
    "\\tag{37}\n",
    "\\end{equation}\n",
    "$$"
   ]
  },
  {
   "cell_type": "markdown",
   "id": "791a5352",
   "metadata": {},
   "source": [
    "sujeto a las condiciones de frontera $y(0)=1$ y $y(\\pi)=1$."
   ]
  },
  {
   "cell_type": "markdown",
   "id": "3b4275f4",
   "metadata": {},
   "source": [
    "En primer lugar se propone una forma de solución para la ecuación ([37](#mjx-eqn-ODE_H_37)), es decir, $y=e^{mx}$. Con esto se calcula las siguientes derivadas: $y'=me^{mx}$ y $y''=m^{2}e^{mx}$. Reemplazando esto en la ecuación ([37](#mjx-eqn-ODE_H_37)) se llega a obtener la siguiente ecuación auxiliar:"
   ]
  },
  {
   "cell_type": "markdown",
   "id": "a87fbcbf",
   "metadata": {},
   "source": [
    "$$\n",
    "\\begin{align*}\n",
    "m^{2}e^{mx}-2me^{mx}+2e^{mx} &=0\\\\\n",
    "e^{mx}(m^{2}-2m+2) &=0\\\\\n",
    " m^{2}-2m+2 &= 0\\\\\n",
    "\\end{align*}\n",
    "$$"
   ]
  },
  {
   "cell_type": "markdown",
   "id": "d4692f84",
   "metadata": {},
   "source": [
    "Para obtener las dos raíces de la última expresión, se tiene que aplicar la fórmula general cuadrática (ecuación ([14](#mjx-eqn-ODE_H_14))):"
   ]
  },
  {
   "cell_type": "markdown",
   "id": "cb3d2a63",
   "metadata": {},
   "source": [
    "$$\n",
    "\\begin{align*}\n",
    "m &= \\frac{-b\\pm\\sqrt{b^{2}-4ac}}{2a}\\\\\n",
    "m &= \\frac{2\\pm\\sqrt{(-2)^{2}-4(1)(2)}}{2(1)}\\\\\n",
    "m &= \\frac{2\\pm\\sqrt{-4}}{2}\\\\\n",
    "m &= \\frac{2\\pm 2i}{2}\\\\\n",
    "m &= 1\\pm i\\\\\n",
    "m_{1} &= 1+i,~m_{2} = 1-i\n",
    "\\end{align*}\n",
    "$$"
   ]
  },
  {
   "cell_type": "markdown",
   "id": "cf4101c0",
   "metadata": {},
   "source": [
    "De lo anterior se identifica que $\\alpha = 1$ y $\\beta = 1$. Por tanto la solución general de la ecuación ([37](#mjx-eqn-ODE_H_37)) toma la siguiente forma:"
   ]
  },
  {
   "cell_type": "markdown",
   "id": "6d825656",
   "metadata": {},
   "source": [
    "$$\n",
    "\\begin{align*}\n",
    "y &= e^{\\alpha x}(c_{1}\\cos{\\beta x}+c_{2}\\sin{\\beta x})\\\\\n",
    "y &= e^{x}(c_{1}\\cos{x}+c_{2}\\sin{x})\n",
    "\\end{align*}\n",
    "$$"
   ]
  },
  {
   "cell_type": "markdown",
   "id": "1ef8d173",
   "metadata": {},
   "source": [
    "Ahora, reemplazando las condiciones de frontera para encontrar la solución particular se tiene:"
   ]
  },
  {
   "cell_type": "markdown",
   "id": "365fc611",
   "metadata": {},
   "source": [
    "$$\n",
    "\\begin{align*}\n",
    "1 &= e^{0}(c_{1}\\cos{0}+c_{2}\\sin{0})\\\\\n",
    "1 &= e^{\\pi}(c_{1}\\cos{\\pi}+c_{2}\\sin{\\pi})\n",
    "\\end{align*}\n",
    "$$"
   ]
  },
  {
   "cell_type": "markdown",
   "id": "450d62ef",
   "metadata": {},
   "source": [
    "De lo anterior se desprende que $c_{1}=1$ por la primera ecuación y $c_{1}=-e^{-\\pi}$. Esto es una directa contradicción por lo que el porblema de valor en la frontera no tiene solución."
   ]
  },
  {
   "cell_type": "markdown",
   "id": "6bd48922",
   "metadata": {},
   "source": [
    "<h1><span style=\"color:purple\">3.2 Ecuaciones diferenciales lineales no homogéneas<span></h1>"
   ]
  },
  {
   "cell_type": "markdown",
   "id": "af68e6f5",
   "metadata": {},
   "source": [
    "<h2><span style=\"color:blue\" >3.2.1 Definición<span></h2>"
   ]
  },
  {
   "cell_type": "markdown",
   "id": "1706c771",
   "metadata": {},
   "source": [
    "Como se mencionó en la sección anterior, una EDO lineal no homogénea de $n$-ésimo orden puede tomar la forma descrita en la ecuación ([2](#mjx-eqn-ODE_H_2)):"
   ]
  },
  {
   "cell_type": "markdown",
   "id": "f3e3ef1d",
   "metadata": {},
   "source": [
    "$$\n",
    "\\begin{align*}\n",
    "a_{n}(x)\\frac{d^{n}y}{dx^{n}}+a_{n-1}(x)\\frac{d^{n-1}y}{dx^{n-1}}+...+a_{1}(x)\\frac{dy}{dx}+a_{0}(x)y = g(x)\n",
    "\\end{align*}\n",
    "$$"
   ]
  },
  {
   "cell_type": "markdown",
   "id": "42121b7e",
   "metadata": {},
   "source": [
    "<h2><span style=\"color:blue\" >3.2.2 Solución general de una EDO lineal no homogénea<span></h2>"
   ]
  },
  {
   "cell_type": "markdown",
   "id": "4e891b96",
   "metadata": {},
   "source": [
    "La solución general de una EDO lineal no homogénea de $n$-ésimo orden puede construirse de la siguiente manera:"
   ]
  },
  {
   "cell_type": "markdown",
   "id": "a8df94d9",
   "metadata": {},
   "source": [
    "$$\n",
    "\\begin{equation}\n",
    "\\begin{aligned}\n",
    "y &= función~complementaria+cualquier~solución~particular\\\\\n",
    "y &= y_{c}+y_{p}\n",
    "\\end{aligned}\n",
    "\\label{ODE_H_38}\n",
    "\\tag{38}\n",
    "\\end{equation}\n",
    "$$"
   ]
  },
  {
   "cell_type": "markdown",
   "id": "ea544443",
   "metadata": {},
   "source": [
    "La función complementaria es una combinación lineal de la forma:"
   ]
  },
  {
   "cell_type": "markdown",
   "id": "cdd277dd",
   "metadata": {},
   "source": [
    "$$\n",
    "\\begin{equation}\n",
    "\\begin{aligned}\n",
    "y_{c} &= c_{1}y_{1}+c_{2}y_{2}+...+c_{n}y_{n}\n",
    "\\end{aligned}\n",
    "\\label{ODE_H_39}\n",
    "\\tag{39}\n",
    "\\end{equation}\n",
    "$$"
   ]
  },
  {
   "cell_type": "markdown",
   "id": "7fdeb5a9",
   "metadata": {},
   "source": [
    "que no es otra cosa sino la solución general de la EDO lineal <b>homogénea asociada</b> $a_{n}(x)\\frac{d^{n}y}{dx^{n}}+a_{n-1}(x)\\frac{d^{n-1}y}{dx^{n-1}}+...+a_{1}(x)\\frac{dy}{dx}+a_{0}(x)y = 0$."
   ]
  },
  {
   "cell_type": "markdown",
   "id": "8663796f",
   "metadata": {},
   "source": [
    "<h2><span style=\"color:blue\" >3.2.2 Principio de superposición <span></h2>\n"
   ]
  },
  {
   "cell_type": "markdown",
   "id": "e67570ed",
   "metadata": {},
   "source": [
    "Para entender este concepto suponga lo siguiente:"
   ]
  },
  {
   "cell_type": "markdown",
   "id": "66e3c295",
   "metadata": {},
   "source": [
    "$$\n",
    "\\begin{align*}\n",
    "y''-3y'+4y &= \\color{blue}{-16x^{2}+24x-8}~\\Rightarrow~\\color{blue}{y_{p_{1}}}=\\color{blue}{-4x^2}\\\\\n",
    "y''-3y'+4y &= \\color{green}{2e^{2x}}~\\Rightarrow~\\color{green}{y_{p_{2}}}=\\color{green}{e^{2x}}\\\\\n",
    "y''-3y'+4y &= \\color{orange}{2xe^{x}-e^{x}}~\\Rightarrow~\\color{orange}{y_{p_{3}}}=\\color{orange}{xe^{x}}\\\\\n",
    "\\end{align*}\n",
    "$$"
   ]
  },
  {
   "cell_type": "markdown",
   "id": "e4569195",
   "metadata": {},
   "source": [
    "Para las tres ecuaciones diferenciales escritas anteriormente, el lado izquierdo es el mismo. Lo que varía en cada caso es la función $g(x)$ y las soluciones particulares. Así:"
   ]
  },
  {
   "cell_type": "markdown",
   "id": "917470ca",
   "metadata": {},
   "source": [
    "$$\n",
    "\\begin{align*}\n",
    "\\color{blue}{g_{1}(x)} &= \\color{blue}{-16x^{2}+24x-8}~\\Rightarrow~\\color{blue}{y_{p_{1}}}=\\color{blue}{-4x^2}\\\\\n",
    "\\color{green}{g_{2}(x)} &= \\color{green}{2e^{2x}}~\\Rightarrow~\\color{green}{y_{p_{2}}}=\\color{green}{e^{2x}}\\\\\n",
    "\\color{orange}{g_{3}(x)} &= \\color{orange}{2xe^{x}-e^{x}}~\\Rightarrow~\\color{orange}{y_{p_{3}}}=\\color{orange}{xe^{x}}\\\\\n",
    "\\end{align*}\n",
    "$$"
   ]
  },
  {
   "cell_type": "markdown",
   "id": "0a8f6764",
   "metadata": {},
   "source": [
    "El principio de superposición permite establecer que una <b>solución particular</b> de:"
   ]
  },
  {
   "cell_type": "markdown",
   "id": "9667ddee",
   "metadata": {},
   "source": [
    "$$\n",
    "\\begin{align*}\n",
    "y''-3y'+4y &= \\color{blue}{g_{1}(x)}+\\color{green}{g_{2}(x)}+\\color{orange}{g_{3}(x)}\\\\\n",
    "y''-3y'+4y &= \\color{blue}{-16x^{2}+24x-8}+\\color{green}{2e^{2x}}+\\color{orange}{2xe^{x}-e^{x}}\n",
    "\\end{align*}\n",
    "$$"
   ]
  },
  {
   "cell_type": "markdown",
   "id": "12acc917",
   "metadata": {},
   "source": [
    "es:"
   ]
  },
  {
   "cell_type": "markdown",
   "id": "4b116366",
   "metadata": {},
   "source": [
    "$$\n",
    "\\begin{align*}\n",
    "y_{p} = \\color{blue}{-4x^2}+\\color{green}{e^{2x}}+\\color{orange}{xe^{x}}\n",
    "\\end{align*}\n",
    "$$"
   ]
  },
  {
   "cell_type": "markdown",
   "id": "941e6e08",
   "metadata": {},
   "source": [
    "Entonces, de manera general, sean $y_{p_{1}},y_{p_{2}},...,y_{p_{k}}$ $k$ soluciones particulares de la EDO lineal no homogénea de $n$-ésimo orden ([2](#mjx-eqn-ODE_H_2)) sobre un intervalo I que corresponden a su vez a $k$ funciones diferentes $g_{1}(x), g_{2}(x),...,g_{k}(x)$. Entonces, <b>una solución particular</b> de:"
   ]
  },
  {
   "cell_type": "markdown",
   "id": "e4b005cb",
   "metadata": {},
   "source": [
    "$$\n",
    "\\begin{equation}\n",
    "\\begin{aligned}\n",
    "a_{n}(x)\\frac{d^{n}y}{dx^{n}}+a_{n-1}(x)\\frac{d^{n-1}y}{dx^{n-1}}+...+a_{1}(x)\\frac{dy}{dx}+a_{0}(x)y = g_{1}(x)+g_{2}(x)+...+g_{k}(x)\n",
    "\\end{aligned}\n",
    "\\label{ODE_H_40}\n",
    "\\tag{40}\n",
    "\\end{equation}\n",
    "$$"
   ]
  },
  {
   "cell_type": "markdown",
   "id": "f59cbd1e",
   "metadata": {},
   "source": [
    "es:"
   ]
  },
  {
   "cell_type": "markdown",
   "id": "233210eb",
   "metadata": {},
   "source": [
    "$$\n",
    "\\begin{equation}\n",
    "\\begin{aligned}\n",
    "y_{p} &= y_{p_{1}}(x)+y_{p_{2}}(x)+...+y_{p_{k}}(x)\n",
    "\\end{aligned}\n",
    "\\label{ODE_H_41}\n",
    "\\tag{41}\n",
    "\\end{equation}\n",
    "$$"
   ]
  },
  {
   "cell_type": "markdown",
   "id": "4b8f9cc4",
   "metadata": {},
   "source": [
    "Para el caso en donde las funciones $g(x)$ estén multiplicadas por constantes arbitrarias $c$:"
   ]
  },
  {
   "cell_type": "markdown",
   "id": "68e698d9",
   "metadata": {},
   "source": [
    "$$\n",
    "\\begin{equation}\n",
    "\\begin{aligned}\n",
    "a_{n}(x)\\frac{d^{n}y}{dx^{n}}+a_{n-1}(x)\\frac{d^{n-1}y}{dx^{n-1}}+...+a_{1}(x)\\frac{dy}{dx}+a_{0}(x)y = c_{1}g_{1}(x)+c_{2}g_{2}(x)+...+c_{k}g_{k}(x)\n",
    "\\end{aligned}\n",
    "\\label{ODE_H_42}\n",
    "\\tag{42}\n",
    "\\end{equation}\n",
    "$$"
   ]
  },
  {
   "cell_type": "markdown",
   "id": "61c1265d",
   "metadata": {},
   "source": [
    "la combinación lineal:"
   ]
  },
  {
   "cell_type": "markdown",
   "id": "cc47b945",
   "metadata": {},
   "source": [
    "$$\n",
    "\\begin{equation}\n",
    "\\begin{aligned}\n",
    "y_{p} &= c_{1}y_{p_{1}}(x)+c_{2}y_{p_{2}}(x)+...+c_{k}y_{p_{k}}(x)\n",
    "\\end{aligned}\n",
    "\\label{ODE_H_43}\n",
    "\\tag{43}\n",
    "\\end{equation}\n",
    "$$"
   ]
  },
  {
   "cell_type": "markdown",
   "id": "bd52b1c5",
   "metadata": {},
   "source": [
    "será <b>una solución particular</b> de la ecuación ([42](#mjx-eqn-ODE_H_42))."
   ]
  },
  {
   "cell_type": "markdown",
   "id": "add36f6b",
   "metadata": {},
   "source": [
    "<h2><span style=\"color:blue\" >3.2.3 Método de los coeficientes indeterminados <span></h2>"
   ]
  },
  {
   "cell_type": "markdown",
   "id": "dd4a14bd",
   "metadata": {},
   "source": [
    "Esta es una metodología diseñada para encontrar una solución particular de $a_{n}(x)\\frac{d^{n}y}{dx^{n}}+a_{n-1}(x)\\frac{d^{n-1}y}{dx^{n-1}}+...+a_{1}(x)\\frac{dy}{dx}+a_{0}(x)y = g(x)$ y con ello construir su solución general $y = y_{c}+y_{p}$."
   ]
  },
  {
   "cell_type": "markdown",
   "id": "541fdeb6",
   "metadata": {},
   "source": [
    "La idea general tras este método es realizar una suposición educada acerca de la forma de la solución particular $y_{p}$ observando el tipo de funciones que forman $g(x)$."
   ]
  },
  {
   "cell_type": "markdown",
   "id": "58a42bb3",
   "metadata": {},
   "source": [
    "<h3><span style=\"color:green\"><b>a. Condiciones de aplicación del método</b></span></h3>"
   ]
  },
  {
   "cell_type": "markdown",
   "id": "fe016517",
   "metadata": {},
   "source": [
    "Para aplicar el método de coeficientes indeterminados, deben cumplirse las siguientes condiciones:"
   ]
  },
  {
   "cell_type": "markdown",
   "id": "f6929a1e",
   "metadata": {},
   "source": [
    "a. Los <b>coeficientes</b> de la EDO lineal no homogénea de $n$-ésimo orden ([2](#mjx-eqn-ODE_H_2)) $a_{n}(x)\\frac{d^{n}y}{dx^{n}}+a_{n-1}(x)\\frac{d^{n-1}y}{dx^{n-1}}+...+a_{1}(x)\\frac{dy}{dx}+a_{0}(x)y = g(x)$, es decir, $a_{n}(x),a_{n-1}(x), ...,a_{1}(x),a_{0}(x)$, deben ser <b>constantes</b>."
   ]
  },
  {
   "cell_type": "markdown",
   "id": "51822835",
   "metadata": {},
   "source": [
    "b. La función $g(x)$ solo puede ser de tipo <b>constante, polinomios, senos, cosenos, exponenciales, sumas o productos de estas funciones</b>."
   ]
  },
  {
   "cell_type": "markdown",
   "id": "2569221e",
   "metadata": {},
   "source": [
    "Por tanto, <span style=\"color:red\"><b>no se permiten funciones</b></span> $g(x)$ de la forma: $\\ln{x}, \\frac{1}{x}, \\tan{x}, \\sin^{-1}{x}$."
   ]
  },
  {
   "cell_type": "markdown",
   "id": "14a60022",
   "metadata": {},
   "source": [
    "<h3><span style=\"color:green\"><b>b. ¿Porqué solo se escogen cierto tipo de funciones $g(x)$ para este método?</b></span></h3>"
   ]
  },
  {
   "cell_type": "markdown",
   "id": "7a8eb1c9",
   "metadata": {},
   "source": [
    "Esto es debido a que las funciones que consisten en <b>constantes, polinomios, exponenciales $e^{ax}$, senos y cosenos</b> tiene la notable propiedad de que <b>las derivadas de sus sumas y productos son de nuevo sumas y productos de constantes, polinomios, exponenciales $e^{ax}$, senos y cosenos</b>."
   ]
  },
  {
   "cell_type": "markdown",
   "id": "cb63acd6",
   "metadata": {},
   "source": [
    "Por tanto, debido a que la combinación lineal de derivadas $a_{n}y_{p}^{(n)}+a_{n-1}y_{p}^{(n-1)}+...+a_{1}y_{p}'+a_{0}y_{p}$ debe ser idéntica a $g(x)$, es razonable suponer que $y_{p}$ tiene la misma forma que $g(x)$."
   ]
  },
  {
   "cell_type": "markdown",
   "id": "6135f124",
   "metadata": {},
   "source": [
    "<h3><span style=\"color:green\"><b>c. Formas comunes de $y_{p}$</b></span></h3>"
   ]
  },
  {
   "cell_type": "markdown",
   "id": "a278d61e",
   "metadata": {},
   "source": [
    "En función de $g(x)$ se pueden suponer las siguientes formas de $y_{p}$: "
   ]
  },
  {
   "cell_type": "markdown",
   "id": "eff533f0",
   "metadata": {},
   "source": [
    " <table>\n",
    "  <tr>\n",
    "    <th>$$g(x)$$</th>\n",
    "    <th>$$Forma~de~y_{p}$$</th>\n",
    "  </tr>\n",
    "  <tr>\n",
    "    <td>$5$ (constante)</td>\n",
    "    <td>$$A$$</td>\n",
    "  </tr>\n",
    "  <tr>\n",
    "    <td>$$x$$</td>\n",
    "    <td>$$Ax+B$$</td>\n",
    "  </tr>\n",
    "  <tr>\n",
    "    <td>$$3x+2$$</td>\n",
    "    <td>$$Ax+B$$</td>\n",
    "  </tr>\n",
    "   <tr>\n",
    "    <td>$$x^{2}$$</td>\n",
    "    <td>$$Ax^{2}+Bx+C$$</td>\n",
    "  </tr>\n",
    "   <tr>\n",
    "    <td>$$x^2-10$$</td>\n",
    "    <td>$$Ax^{2}+Bx+C$$</td>\n",
    "  </tr>\n",
    "   <tr>\n",
    "    <td>$$x^{3}$$</td>\n",
    "    <td>$$Ax^{3}+Bx^{2}+Cx+E$$</td>\n",
    "  </tr>\n",
    "   <tr>\n",
    "    <td>$$x^{3}-x$$</td>\n",
    "    <td>$$Ax^{3}+Bx^{2}+Cx+E$$</td>\n",
    "  </tr>\n",
    "   <tr>\n",
    "    <td>$$\\sin{4x}$$</td>\n",
    "    <td>$$A\\cos{4x}+B\\sin{4x}$$</td>\n",
    "  </tr>\n",
    "    <tr>\n",
    "    <td>$$\\cos{4x}$$</td>\n",
    "    <td>$$A\\cos{4x}+B\\sin{4x}$$</td>\n",
    "  </tr>\n",
    "   <tr>\n",
    "    <td>$$\\cos{4x}+\\sin{4x}$$</td>\n",
    "    <td>$$A\\cos{4x}+B\\sin{4x}$$</td>\n",
    "  </tr>\n",
    "   <tr>\n",
    "    <td>$$\\cos{5x}+\\sin{4x}$$</td>\n",
    "    <td>$$A\\cos{5x}+B\\sin{5x}+C\\cos{4x}+E\\sin{4x}$$</td>\n",
    "  </tr>\n",
    "   <tr>\n",
    "    <td>$$e^{2x}$$</td>\n",
    "    <td>$$Ae^{2x}$$</td>\n",
    "  </tr>\n",
    "   <tr>\n",
    "    <td>$$(x-3)e^{2x}$$</td>\n",
    "    <td>$$(Ax+B)e^{2x}$$</td>\n",
    "  </tr>\n",
    "   <tr>\n",
    "    <td>$$(x^2-x)e^{2x}$$</td>\n",
    "    <td>$$(Ax^{2}+Bx+C)e^{2x}$$</td>\n",
    "  </tr>\n",
    "   <tr>\n",
    "    <td>$$x^3e^{2x}$$</td>\n",
    "    <td>$$(Ax^{3}+Bx^{2}+Cx+E)e^{2x}$$</td>\n",
    "  </tr>\n",
    "   <tr>\n",
    "    <td>$$e^{2x}\\sin{\\pi x}$$</td>\n",
    "    <td>$$Ae^{2x}\\cos{\\pi x}+Be^{2x}\\sin{\\pi x}$$</td>\n",
    "  </tr>\n",
    "   <tr>\n",
    "    <td>$$x^{2}\\sin{\\pi x}$$</td>\n",
    "    <td>$$(Ax^{2}+Bx+C)\\cos{\\pi x}+(Ex^{2}+Fx+G)\\sin{\\pi x}$$</td>\n",
    "  </tr>\n",
    "    <tr>\n",
    "    <td>$$(x^{3}-x^{2})e^{5x}\\cos{2x}$$</td>\n",
    "    <td>$$(Ax^{3}+Bx^{2}+Cx+E)e^{5x}\\cos{2x}+(Fx^{3}+Gx^{2}+Hx+J)e^{5x}\\sin{2x}$$</td>\n",
    "  </tr>\n",
    "</table> "
   ]
  },
  {
   "cell_type": "markdown",
   "id": "e53121cb",
   "metadata": {},
   "source": [
    "<h3><span style=\"color:green\"><b>d. Algoritmo de solución</b></span></h3>"
   ]
  },
  {
   "cell_type": "markdown",
   "id": "82172679",
   "metadata": {},
   "source": [
    "El objetivo de este algoritmo es encontrar la solución general de una EDO lineal no homogénea de $n$-ésimo orden construida como $y=y_{c}+y_{p}$(ecuación ([38](#mjx-eqn-ODE_H_38))), en donde $y_{c}$ es la función complementaria y $y_{p}$ es cualquier solución particular de la EDO lineal no homogénea. Los pasos a seguir son:"
   ]
  },
  {
   "cell_type": "markdown",
   "id": "538cceaa",
   "metadata": {},
   "source": [
    "<h4><span style=\"color:brown\"><b>d.1 Encuentre la función complementaria</b></span></h4>"
   ]
  },
  {
   "cell_type": "markdown",
   "id": "df9931f0",
   "metadata": {},
   "source": [
    "<b>La función complementaria es la solución general que se obtiene al resolver la EDO lineal homogénea de coeficientes constantes asociada a la EDO lineal no homogénea</b>, es decir, $a_{n}(x)\\frac{d^{n}y}{dx^{n}}+a_{n-1}(x)\\frac{d^{n-1}y}{dx^{n-1}}+...+a_{1}(x)\\frac{dy}{dx}+a_{0}(x)y = 0$."
   ]
  },
  {
   "cell_type": "markdown",
   "id": "613a43ca",
   "metadata": {},
   "source": [
    "Por ejemplo, considere la ecuación diferencial lineal no homogénea:"
   ]
  },
  {
   "cell_type": "markdown",
   "id": "eab84cb3",
   "metadata": {},
   "source": [
    "$$\n",
    "\\begin{equation}\n",
    "\\begin{aligned}\n",
    "y''+y = 3\\sin{2x}\n",
    "\\end{aligned}\n",
    "\\label{ODE_H_44}\n",
    "\\tag{44}\n",
    "\\end{equation}\n",
    "$$"
   ]
  },
  {
   "cell_type": "markdown",
   "id": "266ef939",
   "metadata": {},
   "source": [
    "La ecuación diferencial homogénea asociada será $y''+y=0$. Proponiendo una solución de la forma $y=e^{mx}$, obteniendo las derivadas $y'=me^{mx}$ y $y''=m^{2}e^{mx}$ y reemplazando esto en la EDO homogénea asociada se llega a $m^{2}e^{mx}+e^{mx}=0$. "
   ]
  },
  {
   "cell_type": "markdown",
   "id": "6b1f7592",
   "metadata": {},
   "source": [
    "Recordando que $e^{mx}\\neq 0$, la ecuación auxiliar es $m^{2}+1=0$ cuyas soluciones son $m=0\\pm i$, siendo por tanto $\\alpha=0$ y $\\beta=1$. Recordando lo visto en las secciones anteriores, la forma de la solución general para el caso en donde se obtienen dos raíces complejas conjugadas de la ecuación auxiliar es $y = e^{\\alpha x}(c_{1}\\cos{\\beta x}+c_{2}\\sin{\\beta x})$. "
   ]
  },
  {
   "cell_type": "markdown",
   "id": "ed55ae34",
   "metadata": {},
   "source": [
    "Entonces, la función complementaria es $y_{c}=c_{1}\\cos{x}+c_{2}\\sin{x}$."
   ]
  },
  {
   "cell_type": "markdown",
   "id": "04e9c26e",
   "metadata": {},
   "source": [
    "<h4><span style=\"color:brown\"><b>d.2 Proponga una forma de solución particular $y_{p}$ observando la forma de $g(x)$</b></span></h4>"
   ]
  },
  {
   "cell_type": "markdown",
   "id": "619dc29f",
   "metadata": {},
   "source": [
    "En primer lugar, se observa que $g(x)=3\\sin{2x}$. Por tanto, la forma propuesta de la solución particular será $y_{p}=A\\sin{2x}+B\\cos{2x}$, según lo visto en las formas comunes de $y_{p}$."
   ]
  },
  {
   "cell_type": "markdown",
   "id": "9626abf6",
   "metadata": {},
   "source": [
    "<h4><span style=\"color:brown\"><b>d.3 Reemplace la forma propuesta de solución particular en la ED lineal homogénea para encontrar sus constantes</b></span></h4>"
   ]
  },
  {
   "cell_type": "markdown",
   "id": "3286f30f",
   "metadata": {},
   "source": [
    "Para comprobar que $y_{p}$ es una solución de la EDO lineal homogénea, se debe reemplazar esta función y sus derivadas en la EDO, obtieniendo así una <b>identidad</b> si es que esfectivamente $y_{p}$ es la solución. Así para el ejemplo en desarrollo:  "
   ]
  },
  {
   "cell_type": "markdown",
   "id": "fdc755c0",
   "metadata": {},
   "source": [
    "$$\n",
    "\\begin{align*}\n",
    "y_{p} &= A\\sin{2x}+B\\cos{2x}\\\\\n",
    "y_{p}' &= 2A\\cos{2x}-2B\\sin{2x}\\\\\n",
    "y_{p}'' &= -4A\\sin{2x}-4B\\cos{2x}\n",
    "\\end{align*}\n",
    "$$"
   ]
  },
  {
   "cell_type": "markdown",
   "id": "85a428f5",
   "metadata": {},
   "source": [
    "Reemplazando esto en la ecuación ([44](#mjx-eqn-ODE_H_44)):"
   ]
  },
  {
   "cell_type": "markdown",
   "id": "ce77e6cd",
   "metadata": {},
   "source": [
    "$$\n",
    "\\begin{align*}\n",
    "-4A\\sin{2x}-4B\\cos{2x}+A\\sin{2x}+B\\cos{2x} &= 3\\sin{2x}\\\\\n",
    "-3A\\sin{2x}-3B\\cos{2x} &= 3\\sin{2x}\\\\\n",
    "\\end{align*}\n",
    "$$"
   ]
  },
  {
   "cell_type": "markdown",
   "id": "f7d8e04a",
   "metadata": {},
   "source": [
    "Esta última expresión es una identidad que se resuelve función a función:"
   ]
  },
  {
   "cell_type": "markdown",
   "id": "b2121f70",
   "metadata": {},
   "source": [
    "$$\n",
    "\\begin{align*}\n",
    "\\sin{2x} &:~-3A=3~\\Rightarrow~A=-1\\\\\n",
    "\\cos{2x} &:~-3B=0~\\Rightarrow~B=0\n",
    "\\end{align*}\n",
    "$$"
   ]
  },
  {
   "cell_type": "markdown",
   "id": "537304c5",
   "metadata": {},
   "source": [
    "Por tanto, la solución particular buscada es $y_{p}=-\\sin{2x}$."
   ]
  },
  {
   "cell_type": "markdown",
   "id": "65197ee6",
   "metadata": {},
   "source": [
    "<h4><span style=\"color:brown\"><b>d.4 Construya la solución general</b></span></h4>"
   ]
  },
  {
   "cell_type": "markdown",
   "id": "4cb5ce68",
   "metadata": {},
   "source": [
    "La solución general de la ecuación ([44](#mjx-eqn-ODE_H_44)) es $y=c_{1}\\cos{x}+c_{2}\\sin{x}-\\sin{2x}$."
   ]
  },
  {
   "cell_type": "markdown",
   "id": "f9c0bdc5",
   "metadata": {},
   "source": [
    "<h3><span style=\"color:green\"><b>e. Casos de estudio</b></span></h3>"
   ]
  },
  {
   "cell_type": "markdown",
   "id": "59b8e0d0",
   "metadata": {},
   "source": [
    "<h4><span style=\"color:brown\"><b>e.1 Ninguna función de la solución particular supuesta es una solución de la ecuación diferencial homogénea asociada </b></span></h4>"
   ]
  },
  {
   "cell_type": "markdown",
   "id": "72274d1a",
   "metadata": {},
   "source": [
    "Para este caso, la forma de $y_{p}$ es una combinación lineal de todas las funciones linealmente independientes que se generan mediante derivadas sucesivas de $g(x)$."
   ]
  },
  {
   "cell_type": "markdown",
   "id": "1ee8cb3d",
   "metadata": {},
   "source": [
    "Por ejemplo, para el caso anterior, la función complementaria fue $y_{c}=c_{1}\\cos{x}+c_{2}\\sin{x}$ y la solución particular supuesta fue $y_{p}=A\\sin{2x}+B\\cos{2x}$. Como se puede notar, ninguna función de la solución particular supuesta es una solución de la ecuación diferencial homogénea asociada."
   ]
  },
  {
   "cell_type": "markdown",
   "id": "276cebb2",
   "metadata": {},
   "source": [
    "<h4><span style=\"color:brown\"><b>e.2 Una función de la solución particular supuesta también es una solución de la ecuación diferencial homogénea asociada </b></span></h4>"
   ]
  },
  {
   "cell_type": "markdown",
   "id": "1ef8665e",
   "metadata": {},
   "source": [
    "Si alguna solución particular contiene términos que se repiten en la ecuación diferencial homogénea asociada, entonces esa solución particular <b>se debe multiplicar por $x^{n}$, donde $n$ es el entero positivo más pequeño que elimina esa duplicación. </b>"
   ]
  },
  {
   "cell_type": "code",
   "execution_count": null,
   "id": "8db1e27d",
   "metadata": {},
   "outputs": [],
   "source": [
    "Para entender esto, supon"
   ]
  }
 ],
 "metadata": {
  "kernelspec": {
   "display_name": "Python 3",
   "language": "python",
   "name": "python3"
  },
  "language_info": {
   "codemirror_mode": {
    "name": "ipython",
    "version": 3
   },
   "file_extension": ".py",
   "mimetype": "text/x-python",
   "name": "python",
   "nbconvert_exporter": "python",
   "pygments_lexer": "ipython3",
   "version": "3.8.8"
  }
 },
 "nbformat": 4,
 "nbformat_minor": 5
}
